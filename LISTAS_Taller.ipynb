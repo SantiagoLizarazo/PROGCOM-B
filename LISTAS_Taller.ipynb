{
  "nbformat": 4,
  "nbformat_minor": 0,
  "metadata": {
    "colab": {
      "provenance": [],
      "authorship_tag": "ABX9TyOtjBQwbw7S1+rhgXTeyMDn",
      "include_colab_link": true
    },
    "kernelspec": {
      "name": "python3",
      "display_name": "Python 3"
    },
    "language_info": {
      "name": "python"
    }
  },
  "cells": [
    {
      "cell_type": "markdown",
      "metadata": {
        "id": "view-in-github",
        "colab_type": "text"
      },
      "source": [
        "<a href=\"https://colab.research.google.com/github/SantiagoLizarazo/PROGCOM-B/blob/main/LISTAS_Taller.ipynb\" target=\"_parent\"><img src=\"https://colab.research.google.com/assets/colab-badge.svg\" alt=\"Open In Colab\"/></a>"
      ]
    },
    {
      "cell_type": "markdown",
      "source": [
        "#Ejercicios Resueltos: Taller de Listas"
      ],
      "metadata": {
        "id": "nHlYTBoLXcnR"
      }
    },
    {
      "cell_type": "code",
      "source": [
        "#1. Crear una lista con los cuadrados de los números del 1 al 10.\n",
        "\n",
        "cuadrados = [i ** 2 for i in range(1,11)]\n",
        "cuadrados"
      ],
      "metadata": {
        "colab": {
          "base_uri": "https://localhost:8080/"
        },
        "id": "DNNsoif9Xbe2",
        "outputId": "80d1cdf2-598d-43b0-9d85-09c4a0418adb"
      },
      "execution_count": 1,
      "outputs": [
        {
          "output_type": "execute_result",
          "data": {
            "text/plain": [
              "[1, 4, 9, 16, 25, 36, 49, 64, 81, 100]"
            ]
          },
          "metadata": {},
          "execution_count": 1
        }
      ]
    },
    {
      "cell_type": "code",
      "source": [
        "#2. Obtener una lista con los números pares del 0 al 20.\n",
        "\n",
        "NumerosPares = [i for i in range(1,21) if i%2 == 0]\n",
        "NumerosPares"
      ],
      "metadata": {
        "colab": {
          "base_uri": "https://localhost:8080/"
        },
        "id": "IFPl-Fb4X0ho",
        "outputId": "43df0aaa-94dd-46f0-a4d9-3e3f55be5ffa"
      },
      "execution_count": 2,
      "outputs": [
        {
          "output_type": "execute_result",
          "data": {
            "text/plain": [
              "[2, 4, 6, 8, 10, 12, 14, 16, 18, 20]"
            ]
          },
          "metadata": {},
          "execution_count": 2
        }
      ]
    },
    {
      "cell_type": "code",
      "source": [
        "#3. Crear una lista con el doble de cada número del 1 al 5.\n",
        "\n",
        "NumerosDobles = [i * 2 for i in range(1,6)]\n",
        "NumerosDobles"
      ],
      "metadata": {
        "colab": {
          "base_uri": "https://localhost:8080/"
        },
        "id": "FLJhLvfdYkLT",
        "outputId": "cc65ba39-246b-44f8-db79-5bc2a21d483f"
      },
      "execution_count": 3,
      "outputs": [
        {
          "output_type": "execute_result",
          "data": {
            "text/plain": [
              "[2, 4, 6, 8, 10]"
            ]
          },
          "metadata": {},
          "execution_count": 3
        }
      ]
    },
    {
      "cell_type": "code",
      "source": [
        "#4. De la palabra \"programacion\", obtener solo las vocales.\n",
        "\n",
        "palabra = \"programacion\"\n",
        "vocales = [letra for letra in palabra if letra in \"aeiou\"]\n",
        "vocales"
      ],
      "metadata": {
        "colab": {
          "base_uri": "https://localhost:8080/"
        },
        "id": "t2TwSfYwYmd4",
        "outputId": "2c360883-9030-4c46-e205-38640c183ccc"
      },
      "execution_count": 4,
      "outputs": [
        {
          "output_type": "execute_result",
          "data": {
            "text/plain": [
              "['o', 'a', 'a', 'i', 'o']"
            ]
          },
          "metadata": {},
          "execution_count": 4
        }
      ]
    },
    {
      "cell_type": "code",
      "source": [
        "#5. Dada la lista [\"python\", \"java\", \"c++\"], obtener otra lista con las palabras en mayúsculas.\n",
        "\n",
        "Programas = [\"python\", \"java\", \"c++\"]\n",
        "Mayúsculas = [i.upper() for i in Programas]\n",
        "Mayúsculas"
      ],
      "metadata": {
        "colab": {
          "base_uri": "https://localhost:8080/"
        },
        "id": "IYqFmEpIYoEt",
        "outputId": "7cde4e5b-aade-45de-cbb2-9960da6e5b9c"
      },
      "execution_count": 5,
      "outputs": [
        {
          "output_type": "execute_result",
          "data": {
            "text/plain": [
              "['PYTHON', 'JAVA', 'C++']"
            ]
          },
          "metadata": {},
          "execution_count": 5
        }
      ]
    },
    {
      "cell_type": "code",
      "source": [
        "#6. Crear una lista con \"par\" o \"impar\" para los números del 1 al 10.\n",
        "\n",
        "ListaNumers = [1,2,3,4,5,6,7,8,9,10]\n",
        "clasificacion = [(\"par\",x) if x%2==0 else (\"impar\",x) for x in ListaNumers]\n",
        "clasificacion"
      ],
      "metadata": {
        "colab": {
          "base_uri": "https://localhost:8080/"
        },
        "id": "2cNwF_z_Yp4_",
        "outputId": "a63d302a-c766-417c-e284-8d76b5f7c198"
      },
      "execution_count": 6,
      "outputs": [
        {
          "output_type": "execute_result",
          "data": {
            "text/plain": [
              "[('impar', 1),\n",
              " ('par', 2),\n",
              " ('impar', 3),\n",
              " ('par', 4),\n",
              " ('impar', 5),\n",
              " ('par', 6),\n",
              " ('impar', 7),\n",
              " ('par', 8),\n",
              " ('impar', 9),\n",
              " ('par', 10)]"
            ]
          },
          "metadata": {},
          "execution_count": 6
        }
      ]
    },
    {
      "cell_type": "code",
      "source": [
        "#7. Generar una lista de tuplas con el número y su cuadrado del 1 al 5.\n",
        "\n",
        "ListaNumeros = [1,2,3,4,5]\n",
        "NumerosCuadrados = [(x, \"su cuadrado es\" ,x**2 ) for x in ListaNumeros]\n",
        "NumerosCuadrados"
      ],
      "metadata": {
        "colab": {
          "base_uri": "https://localhost:8080/"
        },
        "id": "Tqy4SHagYrqE",
        "outputId": "90e3cf03-67bf-4237-8623-ed0e1005eccd"
      },
      "execution_count": 7,
      "outputs": [
        {
          "output_type": "execute_result",
          "data": {
            "text/plain": [
              "[(1, 'su cuadrado es', 1),\n",
              " (2, 'su cuadrado es', 4),\n",
              " (3, 'su cuadrado es', 9),\n",
              " (4, 'su cuadrado es', 16),\n",
              " (5, 'su cuadrado es', 25)]"
            ]
          },
          "metadata": {},
          "execution_count": 7
        }
      ]
    },
    {
      "cell_type": "code",
      "source": [
        "#8. Crear una lista con todas las combinaciones de letras en [\"a\",\"b\"] y números en [1,2,3].\n",
        "\n",
        "Letras = [\"a\",\"b\"]\n",
        "Numeros = [1,2,3]\n",
        "Combinados = [(letra,Numero) for letra in Letras for Numero in Numeros]\n",
        "Combinados"
      ],
      "metadata": {
        "colab": {
          "base_uri": "https://localhost:8080/"
        },
        "id": "QCF81PDmYuTR",
        "outputId": "f49b97bc-f937-470a-93eb-7375fc89de60"
      },
      "execution_count": 8,
      "outputs": [
        {
          "output_type": "execute_result",
          "data": {
            "text/plain": [
              "[('a', 1), ('a', 2), ('a', 3), ('b', 1), ('b', 2), ('b', 3)]"
            ]
          },
          "metadata": {},
          "execution_count": 8
        }
      ]
    },
    {
      "cell_type": "code",
      "source": [
        "#9. De la lista [\"sol\", \"estrella\", \"mar\", \"planeta\"], obtener solo las palabras con más de 4 letras.\n",
        "\n",
        "palabras =[\"sol\", \"estrella\", \"mar\", \"planeta\"]\n",
        "filtro = [i for i in palabras if len(i) > 4]\n",
        "filtro"
      ],
      "metadata": {
        "colab": {
          "base_uri": "https://localhost:8080/"
        },
        "id": "JoMHS0jaYwFW",
        "outputId": "ed6423ad-0e2d-4c0a-e2e9-02a2864ffe1a"
      },
      "execution_count": 11,
      "outputs": [
        {
          "output_type": "execute_result",
          "data": {
            "text/plain": [
              "['estrella', 'planeta']"
            ]
          },
          "metadata": {},
          "execution_count": 11
        }
      ]
    },
    {
      "cell_type": "code",
      "source": [
        "#10.  Clasificar la temperatura de una lista. Si la temperatura es menor a 26, el clima es \"frío\". Si está entre 26 a 29, es \"templado\". Si es mayor a 29, el clima es \"caliente\".\n",
        "\n",
        "temperatura=list(range(1,31))\n",
        "datos=[(\"frío\",x) if x<26 else (\"templado\",x) if x>=26 and x<=29 else (\"caliente\",x) for x in temperatura]\n",
        "datos"
      ],
      "metadata": {
        "colab": {
          "base_uri": "https://localhost:8080/"
        },
        "id": "ro5X9JzgYyBJ",
        "outputId": "96715356-2945-4f7e-a4aa-329f47d1bcca"
      },
      "execution_count": 12,
      "outputs": [
        {
          "output_type": "execute_result",
          "data": {
            "text/plain": [
              "[('frío', 1),\n",
              " ('frío', 2),\n",
              " ('frío', 3),\n",
              " ('frío', 4),\n",
              " ('frío', 5),\n",
              " ('frío', 6),\n",
              " ('frío', 7),\n",
              " ('frío', 8),\n",
              " ('frío', 9),\n",
              " ('frío', 10),\n",
              " ('frío', 11),\n",
              " ('frío', 12),\n",
              " ('frío', 13),\n",
              " ('frío', 14),\n",
              " ('frío', 15),\n",
              " ('frío', 16),\n",
              " ('frío', 17),\n",
              " ('frío', 18),\n",
              " ('frío', 19),\n",
              " ('frío', 20),\n",
              " ('frío', 21),\n",
              " ('frío', 22),\n",
              " ('frío', 23),\n",
              " ('frío', 24),\n",
              " ('frío', 25),\n",
              " ('templado', 26),\n",
              " ('templado', 27),\n",
              " ('templado', 28),\n",
              " ('templado', 29),\n",
              " ('caliente', 30)]"
            ]
          },
          "metadata": {},
          "execution_count": 12
        }
      ]
    }
  ]
}