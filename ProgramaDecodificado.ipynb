{
  "nbformat": 4,
  "nbformat_minor": 0,
  "metadata": {
    "colab": {
      "provenance": [],
      "authorship_tag": "ABX9TyMxdlNSxw9Mxzb4EBsfTj8h",
      "include_colab_link": true
    },
    "kernelspec": {
      "name": "python3",
      "display_name": "Python 3"
    },
    "language_info": {
      "name": "python"
    }
  },
  "cells": [
    {
      "cell_type": "markdown",
      "metadata": {
        "id": "view-in-github",
        "colab_type": "text"
      },
      "source": [
        "<a href=\"https://colab.research.google.com/github/SantiagoLizarazo/PROGCOM-B/blob/main/ProgramaDecodificado.ipynb\" target=\"_parent\"><img src=\"https://colab.research.google.com/assets/colab-badge.svg\" alt=\"Open In Colab\"/></a>"
      ]
    },
    {
      "cell_type": "code",
      "execution_count": 10,
      "metadata": {
        "colab": {
          "base_uri": "https://localhost:8080/"
        },
        "id": "uUb8qfNRk-WU",
        "outputId": "f397bc67-4171-458d-bac1-3485e69c0814"
      },
      "outputs": [
        {
          "output_type": "stream",
          "name": "stdout",
          "text": [
            "Escribe el mensaje que quieres codificar: Hola\n",
            "\n",
            "--- Resultado ---\n",
            "Mensaje Codificado: Gaki\n"
          ]
        }
      ],
      "source": [
        "class LosComeTaja:\n",
        "    \"\"\"\n",
        "    Clase para codificar y decodificar texto según las reglas:\n",
        "    - Vocal: 2 a la derecha (a -> i)\n",
        "    - Vocal con tilde: 2 a la izquierda (ó -> é)\n",
        "    - Consonante: 1 a la izquierda (h -> g)\n",
        "    \"\"\"\n",
        "\n",
        "    def __init__(self):\n",
        "        # Definimos los \"alfabetos\" que usaremos para los desplazamientos\n",
        "        self.vocales = 'aeiou'\n",
        "        self.vocales_upper = 'AEIOU'\n",
        "        self.vocales_tilde = 'áéíóú'\n",
        "        self.vocales_tilde_upper = 'ÁÉÍÓÚ'\n",
        "        # Nota: Incluimos la 'ñ'\n",
        "        self.consonantes = 'bcdfghjklmnñpqrstvwxyz'\n",
        "        self.consonantes_upper = 'BCDFGHJKLMNÑPQRSTVWXYZ'\n",
        "\n",
        "    def _transformar(self, texto, direccion=1):\n",
        "        \"\"\"\n",
        "        Método auxiliar para transformar texto.\n",
        "        'direccion = 1' es para codificar.\n",
        "        'direccion = -1' es para decodificar.\n",
        "        \"\"\"\n",
        "        resultado = \"\"\n",
        "        for char in texto:\n",
        "            if char in self.vocales:\n",
        "                idx = self.vocales.find(char)\n",
        "                # Vocal: Mover 2 a la derecha (o izquierda si decodifica)\n",
        "                nuevo_idx = (idx + 2 * direccion) % len(self.vocales)\n",
        "                resultado += self.vocales[nuevo_idx]\n",
        "\n",
        "            elif char in self.vocales_upper:\n",
        "                idx = self.vocales_upper.find(char)\n",
        "                nuevo_idx = (idx + 2 * direccion) % len(self.vocales_upper)\n",
        "                resultado += self.vocales_upper[nuevo_idx]\n",
        "\n",
        "            elif char in self.vocales_tilde:\n",
        "                idx = self.vocales_tilde.find(char)\n",
        "                # Vocal Tilde: Mover 2 a la izquierda (o derecha si decodifica)\n",
        "                nuevo_idx = (idx - 2 * direccion) % len(self.vocales_tilde)\n",
        "                resultado += self.vocales_tilde[nuevo_idx]\n",
        "\n",
        "            elif char in self.vocales_tilde_upper:\n",
        "                idx = self.vocales_tilde_upper.find(char)\n",
        "                nuevo_idx = (idx - 2 * direccion) % len(self.vocales_tilde_upper)\n",
        "                resultado += self.vocales_tilde_upper[nuevo_idx]\n",
        "\n",
        "            elif char in self.consonantes:\n",
        "                idx = self.consonantes.find(char)\n",
        "                # Consonante: Mover 1 a la izquierda (o derecha si decodifica)\n",
        "                nuevo_idx = (idx - 1 * direccion) % len(self.consonantes)\n",
        "                resultado += self.consonantes[nuevo_idx]\n",
        "\n",
        "            elif char in self.consonantes_upper:\n",
        "                idx = self.consonantes_upper.find(char)\n",
        "                nuevo_idx = (idx - 1 * direccion) % len(self.consonantes_upper)\n",
        "                resultado += self.consonantes_upper[nuevo_idx]\n",
        "\n",
        "            else:\n",
        "                # Si no es una letra de las definidas (espacios, números, puntos)\n",
        "                # se deja tal cual.\n",
        "                resultado += char\n",
        "\n",
        "        return resultado\n",
        "\n",
        "    def codificar(self, texto_original):\n",
        "        \"\"\"\n",
        "        Codifica un texto moviendo las letras según las reglas.\n",
        "        \"\"\"\n",
        "        return self._transformar(texto_original, direccion=1)\n",
        "\n",
        "    def decodificar(self, texto_codificado):\n",
        "        \"\"\"\n",
        "        Decodifica un texto revirtiendo las reglas de codificación.\n",
        "        \"\"\"\n",
        "        return self._transformar(texto_codificado, direccion=-1)\n",
        "\n",
        "codificador = LosComeTaja()\n",
        "\n",
        "mensaje_original = input(\"Escribe el mensaje que quieres codificar: \")\n",
        "\n",
        "mensaje_codificado = codificador.codificar(mensaje_original)\n",
        "\n",
        "print(\"\\n--- Resultado ---\")\n",
        "print(f\"Mensaje Codificado: {mensaje_codificado}\")"
      ]
    }
  ]
}