{
  "nbformat": 4,
  "nbformat_minor": 0,
  "metadata": {
    "colab": {
      "provenance": [],
      "authorship_tag": "ABX9TyMHlCnSBaA5/Tzo1FtNyBpm",
      "include_colab_link": true
    },
    "kernelspec": {
      "name": "python3",
      "display_name": "Python 3"
    },
    "language_info": {
      "name": "python"
    }
  },
  "cells": [
    {
      "cell_type": "markdown",
      "metadata": {
        "id": "view-in-github",
        "colab_type": "text"
      },
      "source": [
        "<a href=\"https://colab.research.google.com/github/SantiagoLizarazo/PROGCOM-B/blob/main/Clase_1_Estructuras_de_Selecci%C3%B3n.ipynb\" target=\"_parent\"><img src=\"https://colab.research.google.com/assets/colab-badge.svg\" alt=\"Open In Colab\"/></a>"
      ]
    },
    {
      "cell_type": "markdown",
      "source": [
        "#Estructuras de Selección\n",
        "Se emplean cuando quiero evaluar una condición, el resultado de la evaluación de esta condición, siempre se da en booleano, o sea, un verdadero (v) o un falso (f)."
      ],
      "metadata": {
        "id": "vjhiCAe6K2-T"
      }
    },
    {
      "cell_type": "markdown",
      "source": [
        "##Estructura if-else\n",
        "\n",
        "\n",
        "```\n",
        "if (condición):\n",
        "  entro aquí, si la condición dio verdadero (v)\n",
        "else:\n",
        "  entro aquí, si la condición es igual a falso (f)\n",
        "```\n",
        "\n",
        "\n"
      ],
      "metadata": {
        "id": "IB_l5ssgLTl5"
      }
    },
    {
      "cell_type": "markdown",
      "source": [
        "7. Año bisiesto"
      ],
      "metadata": {
        "id": "s3Blb9GQMAgo"
      }
    },
    {
      "cell_type": "code",
      "execution_count": 1,
      "metadata": {
        "colab": {
          "base_uri": "https://localhost:8080/"
        },
        "id": "tfb1k4_aKH5-",
        "outputId": "f79a20d0-8e91-4fa7-a75f-3c4981fc02e0"
      },
      "outputs": [
        {
          "output_type": "stream",
          "name": "stdout",
          "text": [
            "Introduzca un año: 2024\n",
            "2024 es un año bisiesto\n"
          ]
        }
      ],
      "source": [
        "#1. Es divisible entre 4\n",
        "#2. Es divisible entre 400 pero no entre 100\n",
        "año=int(input(\"Introduzca un año: \"))\n",
        "if (año%4==0 and año%100!=0):\n",
        "  print(f\"{año} es un año bisiesto\")\n",
        "else:\n",
        "  if año%400==0:\n",
        "    print(f\"{año} es un año bisiesto\")\n",
        "  else:\n",
        "    print(f\"{año} NO un año bisiesto\")"
      ]
    },
    {
      "cell_type": "markdown",
      "source": [
        "##Estructura de decisión múltiple if-elif-else\n",
        "Se emplea cuando hay más de una condición\n",
        "\n",
        "\n",
        "```\n",
        "if(cond1):\n",
        "  si cond1 es verdadero, entro aquí\n",
        "elif(cond2):\n",
        "  si cond1 es falso, pero cond 2 es verdadero, entro aquí\n",
        "elif(connd3):\n",
        "  si cond1 y cond2 son falsos, y cond3 es verdadero, entro aquí\n",
        "else:\n",
        "  si cond1 y cond2 y cond3 y condn son falsas, entraras aquí\n",
        "```\n",
        "\n"
      ],
      "metadata": {
        "id": "KrM6DhRSOE53"
      }
    },
    {
      "cell_type": "code",
      "source": [
        "año=int(input(\"Introduzca un año: \"))\n",
        "if (año%4==0 and año%100!=0):\n",
        "  print(f\"{año} es un año bisiesto\")\n",
        "elif año%400==0:\n",
        "    print(f\"{año} es un año bisiesto\")\n",
        "else:\n",
        "    print(f\"{año} NO un año bisiesto\")"
      ],
      "metadata": {
        "colab": {
          "base_uri": "https://localhost:8080/"
        },
        "id": "xktVGN2zOD6Y",
        "outputId": "172f89c1-3f0b-4722-ff7a-d78ba79e7228"
      },
      "execution_count": 2,
      "outputs": [
        {
          "output_type": "stream",
          "name": "stdout",
          "text": [
            "Introduzca un año: 2024\n",
            "2024 es un año bisiesto\n"
          ]
        }
      ]
    },
    {
      "cell_type": "markdown",
      "source": [
        "##Operador terniario\n",
        "Programar una estructura de selección en una sola linea de código\n",
        "\n",
        "```\n",
        "(Lo que se debe ejecutar, si la condición es verdadera) if (condición) else (lo que se debe ejecutar, si la condición es falsa)\n",
        "```\n",
        "\n"
      ],
      "metadata": {
        "id": "kMlYRXa0Qb7c"
      }
    },
    {
      "cell_type": "code",
      "source": [
        "print(f\"{año} es un año bisiesto\") if (año%4==0 and año%100!=0) else print(f\"{año} es un año bisiesto\") if año%400==0 else print (f\"{año} NO un año bisiesto\")"
      ],
      "metadata": {
        "colab": {
          "base_uri": "https://localhost:8080/"
        },
        "id": "-ACjgvNsQbkl",
        "outputId": "4926b3b1-6afa-4c13-c6c5-86866568d501"
      },
      "execution_count": 32,
      "outputs": [
        {
          "output_type": "stream",
          "name": "stdout",
          "text": [
            "2024 es un año bisiesto\n"
          ]
        }
      ]
    },
    {
      "cell_type": "code",
      "source": [
        "a=f\"{año} es un año bisiesto\" if año%4==0 and año%100!=0 else b\n",
        "b=f\"{año} es un año bisiesto\" if año%400==0 else f\"{año} NO un año bisiesto\"\n",
        "print(a)"
      ],
      "metadata": {
        "colab": {
          "base_uri": "https://localhost:8080/"
        },
        "id": "dt5sEjBsYTy3",
        "outputId": "970681e2-cf59-4d7c-c48c-9f0688261fba"
      },
      "execution_count": 33,
      "outputs": [
        {
          "output_type": "stream",
          "name": "stdout",
          "text": [
            "2024 es un año bisiesto\n"
          ]
        }
      ]
    },
    {
      "cell_type": "markdown",
      "source": [
        "##Prueba Diagnóstica: Estructuras de Selección"
      ],
      "metadata": {
        "id": "lONAFef5SXPM"
      }
    },
    {
      "cell_type": "markdown",
      "source": [
        "1. Escribe un programa que reciba un número e indique si es positivo."
      ],
      "metadata": {
        "id": "nMpfT2szSaOk"
      }
    },
    {
      "cell_type": "code",
      "source": [
        "num=int(input(\"Introduzca un número: \"))\n",
        "if (num<0):\n",
        "  print(f\"{num} es negativo\")\n",
        "else:\n",
        "  print(f\"{num} es positivo\")"
      ],
      "metadata": {
        "colab": {
          "base_uri": "https://localhost:8080/"
        },
        "id": "ZcPCTzJMSfYz",
        "outputId": "f7088c37-be2b-4cc9-c9e8-965cd68a3b42"
      },
      "execution_count": 3,
      "outputs": [
        {
          "output_type": "stream",
          "name": "stdout",
          "text": [
            "Introduzca un número: 5\n",
            "5 es positivo\n"
          ]
        }
      ]
    },
    {
      "cell_type": "code",
      "source": [
        "from typing import Text\n",
        "num=int(input(\"Introduzca un número: \"))\n",
        "if (num<0):\n",
        "  print(f\"{num} es negativo\")\n",
        "elif num==0:\n",
        "  print(f\"{num} es cero\")\n",
        "else:\n",
        "  print(f\"{num} es positivo\")"
      ],
      "metadata": {
        "colab": {
          "base_uri": "https://localhost:8080/"
        },
        "id": "81scgeEOS8eb",
        "outputId": "3e284501-f5dc-4d4f-f2c5-aa40ccc396c4"
      },
      "execution_count": 59,
      "outputs": [
        {
          "output_type": "stream",
          "name": "stdout",
          "text": [
            "Introduzca un número: 5\n",
            "5 es positivo\n"
          ]
        }
      ]
    },
    {
      "cell_type": "code",
      "source": [
        "a=f\"{num} es negativo\" if (num<0) else b\n",
        "b=f\"{num} es positivo\" if (num>0) else f\"{num} es cero\""
      ],
      "metadata": {
        "id": "GFPq4ngvcnO8"
      },
      "execution_count": 60,
      "outputs": []
    },
    {
      "cell_type": "markdown",
      "source": [
        "2. Escribe un programa que reciba una edad y determine si la persona es mayor de edad."
      ],
      "metadata": {
        "id": "SB-luV3TTZJT"
      }
    },
    {
      "cell_type": "code",
      "source": [
        "edad=int(input(\"Introduzca una edad: \"))\n",
        "if (edad<18):\n",
        "  print(\"Usted es menor de edad\")\n",
        "else:\n",
        "  print(\"Usted es mayor de edad\")"
      ],
      "metadata": {
        "colab": {
          "base_uri": "https://localhost:8080/"
        },
        "id": "D68iqHStTb_7",
        "outputId": "993fc6d3-d7fc-4bd8-df2e-5d285bf28123"
      },
      "execution_count": 18,
      "outputs": [
        {
          "output_type": "stream",
          "name": "stdout",
          "text": [
            "Introduzca una edad: 18\n",
            "Usted es mayor de edad\n"
          ]
        }
      ]
    },
    {
      "cell_type": "code",
      "source": [
        "edad=int(input(\"Introduzca una edad: \"))\n",
        "if (edad<18 and edad>0):\n",
        "  print(\"Usted es menor de edad\")\n",
        "elif (edad==0):\n",
        "  print(\"Esa edad es invalida\")\n",
        "else:\n",
        "  print(\"Usted es mayor de edad\")"
      ],
      "metadata": {
        "colab": {
          "base_uri": "https://localhost:8080/"
        },
        "id": "1h5YavLyT30a",
        "outputId": "aed80d5c-3d0a-444c-c409-7cd4ea0ac5e2"
      },
      "execution_count": 17,
      "outputs": [
        {
          "output_type": "stream",
          "name": "stdout",
          "text": [
            "Introduzca una edad: 1\n",
            "Usted es menor de edad\n"
          ]
        }
      ]
    },
    {
      "cell_type": "code",
      "source": [
        "a=\"Usted es menor de edad\" if (edad<18 and edad>0) else b\n",
        "b=\"Usted es mayor de edad\" if (edad>18) else \"Esa edad es invalida\""
      ],
      "metadata": {
        "id": "JKRANlXIeFis"
      },
      "execution_count": 61,
      "outputs": []
    },
    {
      "cell_type": "markdown",
      "source": [
        "3. Escribe un programa que reciba dos números e imprima el mayor."
      ],
      "metadata": {
        "id": "cxjwgx49VhGB"
      }
    },
    {
      "cell_type": "code",
      "source": [
        "num1=int(input(\"Introduzca un número: \"))\n",
        "num2=int(input(\"Introduzca otro número: \"))\n",
        "if (num1<num2):\n",
        "  print (f\"{num2} es el mayor\")\n",
        "else:\n",
        "  print (f\"{num1} es el mayor\")"
      ],
      "metadata": {
        "colab": {
          "base_uri": "https://localhost:8080/"
        },
        "id": "xb2VHoZtVkDR",
        "outputId": "ae6e2aab-390b-4cc1-a3bc-f026a011cc77"
      },
      "execution_count": 25,
      "outputs": [
        {
          "output_type": "stream",
          "name": "stdout",
          "text": [
            "Introduzca un número: 45\n",
            "Introduzca otro número: 1\n",
            "45 es el mayor\n"
          ]
        }
      ]
    },
    {
      "cell_type": "code",
      "source": [
        "num1=int(input(\"Introduzca un número: \"))\n",
        "num2=int(input(\"Introduzca otro número: \"))\n",
        "if (num1<num2):\n",
        "  print (f\"{num2} es el mayor\")\n",
        "elif (num1==num2):\n",
        "  print(f\"{num1} y {num2} son iguales, introduce números diferentes\")\n",
        "else:\n",
        "  print (f\"{num1} es el mayor\")"
      ],
      "metadata": {
        "colab": {
          "base_uri": "https://localhost:8080/"
        },
        "id": "SbRqCFzKW0_o",
        "outputId": "c2a59e4b-8069-433c-f70b-f780b4984b79"
      },
      "execution_count": 28,
      "outputs": [
        {
          "output_type": "stream",
          "name": "stdout",
          "text": [
            "Introduzca un número: 5\n",
            "Introduzca otro número: 5\n",
            "5 y 5 son iguales, introduce números diferentes\n"
          ]
        }
      ]
    },
    {
      "cell_type": "code",
      "source": [
        "a=f\"{num2} es el mayor\" if (num1<num2) else b\n",
        "b=f\"{num1} es el mayor\" if (num1>num2) else f\"{num1} y {num2} son iguales, introduce números diferentes\""
      ],
      "metadata": {
        "id": "DPXQiSG0ejoL"
      },
      "execution_count": 62,
      "outputs": []
    },
    {
      "cell_type": "markdown",
      "source": [
        "4. Escribe un programa que reciba una calificación (0-100) e indique si es Aprobado (>=60) o Reprobado."
      ],
      "metadata": {
        "id": "IXlF0e2tXKp4"
      }
    },
    {
      "cell_type": "code",
      "source": [
        "nota=int(input(\"Introduzca su nota: \"))\n",
        "if (nota>=60):\n",
        "  print(\"Usted ha sido aprobado\")\n",
        "else:\n",
        "  print(\"Usted ha sido reprobado\")"
      ],
      "metadata": {
        "colab": {
          "base_uri": "https://localhost:8080/"
        },
        "id": "rP22PufdXQTP",
        "outputId": "6245ef18-3d6d-482a-d761-e60efcc00154"
      },
      "execution_count": 41,
      "outputs": [
        {
          "output_type": "stream",
          "name": "stdout",
          "text": [
            "Introduzca su nota: 100\n",
            "Usted ha sido aprobado\n"
          ]
        }
      ]
    },
    {
      "cell_type": "code",
      "source": [
        "nota=int(input(\"Introduzca su nota: \"))\n",
        "if (nota>=60 and nota<=100):\n",
        "  print(\"Usted ha sido aprobado\")\n",
        "elif (nota>=0 and nota<60):\n",
        "  print(\"Usted ha sido reprobado\")\n",
        "else:\n",
        "  print(\"Esa nota es invalida\")"
      ],
      "metadata": {
        "colab": {
          "base_uri": "https://localhost:8080/"
        },
        "id": "OI0UktjsaTru",
        "outputId": "9bf69eff-9931-4075-defa-9fcbee4361ef"
      },
      "execution_count": 45,
      "outputs": [
        {
          "output_type": "stream",
          "name": "stdout",
          "text": [
            "Introduzca su nota: 101\n",
            "Esa nota es invalida\n"
          ]
        }
      ]
    },
    {
      "cell_type": "code",
      "source": [
        "a=\"Usted ha sido aprobado\" if (nota>=60 and nota<=100) else b\n",
        "b=\"Usted ha sido reprobado\" if (nota>=0 and nota<60) else \"Esa nota es invalida\""
      ],
      "metadata": {
        "id": "W9pkBM-We5KT"
      },
      "execution_count": null,
      "outputs": []
    },
    {
      "cell_type": "markdown",
      "source": [
        "5. Escribe un programa que determine si un número es par o impar."
      ],
      "metadata": {
        "id": "KFaviDRCbdBE"
      }
    },
    {
      "cell_type": "code",
      "source": [
        "numeri=int(input(\"Introduzca un número: \"))\n",
        "if (numeri%2==0):\n",
        "  print(f\"{numeri} es un número par\")\n",
        "else:\n",
        "  print(f\"{numeri} es un número impar\")"
      ],
      "metadata": {
        "colab": {
          "base_uri": "https://localhost:8080/"
        },
        "id": "rn9U_hGrbhj9",
        "outputId": "d6832fbd-618d-4bcb-b9d3-184b14b6019c"
      },
      "execution_count": 48,
      "outputs": [
        {
          "output_type": "stream",
          "name": "stdout",
          "text": [
            "Introduzca un número: 0\n",
            "0 es un número par\n"
          ]
        }
      ]
    },
    {
      "cell_type": "code",
      "source": [
        "numeri=int(input(\"Introduzca un número: \"))\n",
        "if (numeri%2==0 and numeri>0):\n",
        "  print(f\"{numeri} es un número par\")\n",
        "elif (numeri%2!=0 and numeri>0):\n",
        "  print(f\"{numeri} es un número impar\")\n",
        "else:\n",
        "  print(f\"{numeri} es invalido\")"
      ],
      "metadata": {
        "colab": {
          "base_uri": "https://localhost:8080/"
        },
        "id": "BFASycVob7B1",
        "outputId": "2ea3cd67-8403-46c4-f3b6-e7ae51bee20b"
      },
      "execution_count": 50,
      "outputs": [
        {
          "output_type": "stream",
          "name": "stdout",
          "text": [
            "Introduzca un número: -2\n",
            "-2 es invalido\n"
          ]
        }
      ]
    }
  ]
}