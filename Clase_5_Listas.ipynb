{
  "nbformat": 4,
  "nbformat_minor": 0,
  "metadata": {
    "colab": {
      "provenance": [],
      "authorship_tag": "ABX9TyOkW+Nxn9RSi4PXZcx3weWg",
      "include_colab_link": true
    },
    "kernelspec": {
      "name": "python3",
      "display_name": "Python 3"
    },
    "language_info": {
      "name": "python"
    }
  },
  "cells": [
    {
      "cell_type": "markdown",
      "metadata": {
        "id": "view-in-github",
        "colab_type": "text"
      },
      "source": [
        "<a href=\"https://colab.research.google.com/github/SantiagoLizarazo/PROGCOM-B/blob/main/Clase_5_Listas.ipynb\" target=\"_parent\"><img src=\"https://colab.research.google.com/assets/colab-badge.svg\" alt=\"Open In Colab\"/></a>"
      ]
    },
    {
      "cell_type": "markdown",
      "source": [
        "#LISTAS\n",
        "1. Un nuevo tipo de dato.\n",
        "2. Es mutable.\n",
        "3. Presenta una indexación:Hay un orden.\n",
        "4. Hay un numero finito de posiciones.\n",
        "5. Todas las listas se abren y cierran con [] y se separan con ,.\n",
        "\n",
        "Sintaxis de las listas:\n",
        "```\n",
        "nombre_lista=[] #Crear lista vacía\n",
        "flores=[\"margarita\", \"rosa\", \"tulipán\"]\n",
        "```\n",
        "Listas por extensión.\n"
      ],
      "metadata": {
        "id": "oRYEmm6t7lu1"
      }
    },
    {
      "cell_type": "code",
      "execution_count": 2,
      "metadata": {
        "colab": {
          "base_uri": "https://localhost:8080/",
          "height": 176
        },
        "id": "PTkNaMUp61F4",
        "outputId": "2c06e32b-59b0-41f9-b42f-23cfcc123068"
      },
      "outputs": [
        {
          "output_type": "error",
          "ename": "IndexError",
          "evalue": "list assignment index out of range",
          "traceback": [
            "\u001b[0;31m---------------------------------------------------------------------------\u001b[0m",
            "\u001b[0;31mIndexError\u001b[0m                                Traceback (most recent call last)",
            "\u001b[0;32m/tmp/ipython-input-875959369.py\u001b[0m in \u001b[0;36m<cell line: 0>\u001b[0;34m()\u001b[0m\n\u001b[1;32m      1\u001b[0m \u001b[0mnu\u001b[0m\u001b[0;34m=\u001b[0m\u001b[0;34m[\u001b[0m\u001b[0;34m]\u001b[0m\u001b[0;34m\u001b[0m\u001b[0;34m\u001b[0m\u001b[0m\n\u001b[1;32m      2\u001b[0m \u001b[0;32mfor\u001b[0m \u001b[0mi\u001b[0m \u001b[0;32min\u001b[0m \u001b[0mrange\u001b[0m\u001b[0;34m(\u001b[0m\u001b[0;36m1\u001b[0m\u001b[0;34m,\u001b[0m\u001b[0;36m11\u001b[0m\u001b[0;34m)\u001b[0m\u001b[0;34m:\u001b[0m\u001b[0;34m\u001b[0m\u001b[0;34m\u001b[0m\u001b[0m\n\u001b[0;32m----> 3\u001b[0;31m   \u001b[0mnu\u001b[0m\u001b[0;34m[\u001b[0m\u001b[0mi\u001b[0m\u001b[0;34m]\u001b[0m\u001b[0;34m=\u001b[0m\u001b[0mi\u001b[0m\u001b[0;34m\u001b[0m\u001b[0;34m\u001b[0m\u001b[0m\n\u001b[0m",
            "\u001b[0;31mIndexError\u001b[0m: list assignment index out of range"
          ]
        }
      ],
      "source": [
        "nu=[]\n",
        "for i in range(1,11):\n",
        "  nu[i]=i"
      ]
    },
    {
      "cell_type": "code",
      "source": [
        "for i in range(10):\n",
        "  nu.append(i+1)"
      ],
      "metadata": {
        "id": "ObDv0QnT9Fqx"
      },
      "execution_count": 3,
      "outputs": []
    },
    {
      "cell_type": "code",
      "source": [
        "nu"
      ],
      "metadata": {
        "colab": {
          "base_uri": "https://localhost:8080/"
        },
        "id": "CSz_JT5L9LlR",
        "outputId": "a88d66c2-4153-4507-ea53-2f766254b60b"
      },
      "execution_count": 4,
      "outputs": [
        {
          "output_type": "execute_result",
          "data": {
            "text/plain": [
              "[1, 2, 3, 4, 5, 6, 7, 8, 9, 10]"
            ]
          },
          "metadata": {},
          "execution_count": 4
        }
      ]
    },
    {
      "cell_type": "code",
      "source": [
        "nombres=[]\n",
        "for i in range(3):\n",
        "  nombres.append(input(\"Ingrese un nombre: \"))"
      ],
      "metadata": {
        "colab": {
          "base_uri": "https://localhost:8080/"
        },
        "id": "ZThO8UeK9tUv",
        "outputId": "5fe77eae-c801-4839-9f05-4a7a04bf641f"
      },
      "execution_count": 5,
      "outputs": [
        {
          "name": "stdout",
          "output_type": "stream",
          "text": [
            "Ingrese un nombre: Carlos\n",
            "Ingrese un nombre: Manuel\n",
            "Ingrese un nombre: Harry\n"
          ]
        }
      ]
    },
    {
      "cell_type": "code",
      "source": [
        "nombres"
      ],
      "metadata": {
        "colab": {
          "base_uri": "https://localhost:8080/"
        },
        "id": "qEfe6rTE974H",
        "outputId": "3f95794d-0f23-4395-fe2c-83d360fb02dc"
      },
      "execution_count": 6,
      "outputs": [
        {
          "output_type": "execute_result",
          "data": {
            "text/plain": [
              "['Carlos', 'Manuel', 'Harry']"
            ]
          },
          "metadata": {},
          "execution_count": 6
        }
      ]
    },
    {
      "cell_type": "code",
      "source": [
        "#Indexación negativa\n",
        "Lista_num=[1,2,3,4,5,6,7,8,9,10]\n",
        "Lista_num[-1]"
      ],
      "metadata": {
        "colab": {
          "base_uri": "https://localhost:8080/"
        },
        "id": "4vasrgbIDeCf",
        "outputId": "07b36af5-387a-4812-9cd6-9fd3c664abd2"
      },
      "execution_count": 21,
      "outputs": [
        {
          "output_type": "execute_result",
          "data": {
            "text/plain": [
              "10"
            ]
          },
          "metadata": {},
          "execution_count": 21
        }
      ]
    },
    {
      "cell_type": "code",
      "source": [
        "Lista_num[-2]"
      ],
      "metadata": {
        "colab": {
          "base_uri": "https://localhost:8080/"
        },
        "id": "Xm2Nt1EID11G",
        "outputId": "d1f236b2-19ac-4da2-e5a9-400886bf3a6d"
      },
      "execution_count": 22,
      "outputs": [
        {
          "output_type": "execute_result",
          "data": {
            "text/plain": [
              "9"
            ]
          },
          "metadata": {},
          "execution_count": 22
        }
      ]
    },
    {
      "cell_type": "code",
      "source": [
        "Lista_num[len(Lista_num)-1]"
      ],
      "metadata": {
        "colab": {
          "base_uri": "https://localhost:8080/"
        },
        "id": "qJWGB72wD4wG",
        "outputId": "46bf81db-6012-4e2a-fd95-2ff9bffa907b"
      },
      "execution_count": 23,
      "outputs": [
        {
          "output_type": "execute_result",
          "data": {
            "text/plain": [
              "10"
            ]
          },
          "metadata": {},
          "execution_count": 23
        }
      ]
    },
    {
      "cell_type": "code",
      "source": [
        "Lista_num[::]"
      ],
      "metadata": {
        "colab": {
          "base_uri": "https://localhost:8080/"
        },
        "id": "7jFQNikFEoW8",
        "outputId": "a3b7585e-e49e-4677-fec1-e11c54bb52a2"
      },
      "execution_count": 24,
      "outputs": [
        {
          "output_type": "execute_result",
          "data": {
            "text/plain": [
              "[1, 2, 3, 4, 5, 6, 7, 8, 9, 10]"
            ]
          },
          "metadata": {},
          "execution_count": 24
        }
      ]
    },
    {
      "cell_type": "code",
      "source": [
        "Lista_num[:2]"
      ],
      "metadata": {
        "colab": {
          "base_uri": "https://localhost:8080/"
        },
        "id": "vXqIljKEEu2k",
        "outputId": "1dbe7451-7521-4d9e-95f6-58959ed9ae16"
      },
      "execution_count": 25,
      "outputs": [
        {
          "output_type": "execute_result",
          "data": {
            "text/plain": [
              "[1, 2]"
            ]
          },
          "metadata": {},
          "execution_count": 25
        }
      ]
    },
    {
      "cell_type": "markdown",
      "source": [
        "##Listas por comprensión\n",
        "Son expresiones que generan listas\n",
        "Sintaxis:\n",
        "\n",
        "```\n",
        "nombre_lista=[expresion for variable in iteraccion if condicion]\n",
        "```\n",
        "\n"
      ],
      "metadata": {
        "id": "aV2lCr0o-abt"
      }
    },
    {
      "cell_type": "markdown",
      "source": [
        "###Ejemplos"
      ],
      "metadata": {
        "id": "0wEo33oa_FKr"
      }
    },
    {
      "cell_type": "code",
      "source": [
        "#1. Convertir una lista de oraciones en una lista de palabras\n",
        "oracion=[\"Aquí va una oración\", \"Aquí va otra oración\", \"Aquí va la tercera oración\"]\n",
        "len(oracion)"
      ],
      "metadata": {
        "colab": {
          "base_uri": "https://localhost:8080/"
        },
        "id": "m8uepYVm_DqT",
        "outputId": "17f4b6b3-cb9c-4af6-ad8d-9274261cb7ca"
      },
      "execution_count": 7,
      "outputs": [
        {
          "output_type": "execute_result",
          "data": {
            "text/plain": [
              "3"
            ]
          },
          "metadata": {},
          "execution_count": 7
        }
      ]
    },
    {
      "cell_type": "code",
      "source": [
        "palabras=[i.split() for i in oracion]\n",
        "palabras"
      ],
      "metadata": {
        "colab": {
          "base_uri": "https://localhost:8080/"
        },
        "id": "Z8KsCE8f_bZL",
        "outputId": "84fe12f6-18e8-4a5c-e23d-3e4ed54ad165"
      },
      "execution_count": 8,
      "outputs": [
        {
          "output_type": "execute_result",
          "data": {
            "text/plain": [
              "[['Aquí', 'va', 'una', 'oración'],\n",
              " ['Aquí', 'va', 'otra', 'oración'],\n",
              " ['Aquí', 'va', 'la', 'tercera', 'oración']]"
            ]
          },
          "metadata": {},
          "execution_count": 8
        }
      ]
    },
    {
      "cell_type": "code",
      "source": [
        "palabras=[i.split() for i in oracion]\n",
        "palabras"
      ],
      "metadata": {
        "colab": {
          "base_uri": "https://localhost:8080/"
        },
        "id": "Jc0q0OhlAiGv",
        "outputId": "7f487423-9e8e-4433-af4d-2a637fa6e37d"
      },
      "execution_count": 18,
      "outputs": [
        {
          "output_type": "execute_result",
          "data": {
            "text/plain": [
              "[['Aquí', 'va', 'una', 'oración'],\n",
              " ['Aquí', 'va', 'otra', 'oración'],\n",
              " ['Aquí', 'va', 'la', 'tercera', 'oración']]"
            ]
          },
          "metadata": {},
          "execution_count": 18
        }
      ]
    },
    {
      "cell_type": "code",
      "source": [
        "len(palabras[2])"
      ],
      "metadata": {
        "colab": {
          "base_uri": "https://localhost:8080/"
        },
        "id": "VHUIF76MBQzd",
        "outputId": "a4cca5f6-50d3-41f7-859b-e40081e745d5"
      },
      "execution_count": 20,
      "outputs": [
        {
          "output_type": "execute_result",
          "data": {
            "text/plain": [
              "5"
            ]
          },
          "metadata": {},
          "execution_count": 20
        }
      ]
    },
    {
      "cell_type": "code",
      "source": [
        "#2. Obtener los pares de Lista_num\n",
        "pares=[x for x in Lista_num if x%2==0]\n",
        "pares"
      ],
      "metadata": {
        "colab": {
          "base_uri": "https://localhost:8080/"
        },
        "id": "Qq9kL9pnFHuC",
        "outputId": "aa54a2fd-6e25-4ce9-cf29-2eed46b87925"
      },
      "execution_count": 26,
      "outputs": [
        {
          "output_type": "execute_result",
          "data": {
            "text/plain": [
              "[2, 4, 6, 8, 10]"
            ]
          },
          "metadata": {},
          "execution_count": 26
        }
      ]
    },
    {
      "cell_type": "code",
      "source": [
        "#3. Clasificar números en positivos y negativos\n",
        "numeros=[-1,2,-3,4,-5,6,-7,8,-9,10]\n",
        "clasificacion=[(\"positivo\",x) if x>=0 else (\"negativo\",x) for x in numeros]\n",
        "clasificacion"
      ],
      "metadata": {
        "colab": {
          "base_uri": "https://localhost:8080/"
        },
        "id": "3zLhuiCJF9cB",
        "outputId": "cf617109-afac-498f-f1bb-e671d6ee9c9c"
      },
      "execution_count": 28,
      "outputs": [
        {
          "output_type": "execute_result",
          "data": {
            "text/plain": [
              "[('negativo', -1),\n",
              " ('positivo', 2),\n",
              " ('negativo', -3),\n",
              " ('positivo', 4),\n",
              " ('negativo', -5),\n",
              " ('positivo', 6),\n",
              " ('negativo', -7),\n",
              " ('positivo', 8),\n",
              " ('negativo', -9),\n",
              " ('positivo', 10)]"
            ]
          },
          "metadata": {},
          "execution_count": 28
        }
      ]
    },
    {
      "cell_type": "markdown",
      "source": [
        "##Indexación en listas\n",
        "*Recordar que python cuenta desde **0***\n",
        "```\n",
        "Lista=[Elemento1, Elemento2, Elemento3]\n",
        "Lista[0]=Elemento1\n",
        "Lista[3]=Error fuera de rango\n",
        "```\n",
        "\n"
      ],
      "metadata": {
        "id": "yQLGjj1sClWp"
      }
    }
  ]
}