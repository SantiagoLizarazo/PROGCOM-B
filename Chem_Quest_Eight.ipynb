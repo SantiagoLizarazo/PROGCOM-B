{
  "nbformat": 4,
  "nbformat_minor": 0,
  "metadata": {
    "colab": {
      "provenance": [],
      "authorship_tag": "ABX9TyO/LukzVc05zg4atfxSylrC",
      "include_colab_link": true
    },
    "kernelspec": {
      "name": "python3",
      "display_name": "Python 3"
    },
    "language_info": {
      "name": "python"
    }
  },
  "cells": [
    {
      "cell_type": "markdown",
      "metadata": {
        "id": "view-in-github",
        "colab_type": "text"
      },
      "source": [
        "<a href=\"https://colab.research.google.com/github/SantiagoLizarazo/PROGCOM-B/blob/main/Chem_Quest_Eight.ipynb\" target=\"_parent\"><img src=\"https://colab.research.google.com/assets/colab-badge.svg\" alt=\"Open In Colab\"/></a>"
      ]
    },
    {
      "cell_type": "markdown",
      "source": [
        "##Repositorio de Errores Comunes en Python."
      ],
      "metadata": {
        "id": "GXTIzJJm3YF7"
      }
    },
    {
      "cell_type": "markdown",
      "source": [
        "###1. IdentationError\n",
        "Este error es específico de Python y ocurre cuando las líneas de código no están correctamente indentadas. Python usa la indentación para definir el alcance de los bloques de código, como los bucles for, las funciones def o las declaraciones if-else."
      ],
      "metadata": {
        "id": "wkW95uqi3hAV"
      }
    },
    {
      "cell_type": "code",
      "execution_count": 1,
      "metadata": {
        "colab": {
          "base_uri": "https://localhost:8080/",
          "height": 106
        },
        "id": "DQDibk2e3S8v",
        "outputId": "39fa0512-59fe-4dcc-e195-907d94855626"
      },
      "outputs": [
        {
          "output_type": "error",
          "ename": "IndentationError",
          "evalue": "expected an indented block after function definition on line 1 (ipython-input-1934541753.py, line 2)",
          "traceback": [
            "\u001b[0;36m  File \u001b[0;32m\"/tmp/ipython-input-1934541753.py\"\u001b[0;36m, line \u001b[0;32m2\u001b[0m\n\u001b[0;31m    print(\"Hola, mundo\")\u001b[0m\n\u001b[0m    ^\u001b[0m\n\u001b[0;31mIndentationError\u001b[0m\u001b[0;31m:\u001b[0m expected an indented block after function definition on line 1\n"
          ]
        }
      ],
      "source": [
        "def saludar():\n",
        "print(\"Hola, mundo\")"
      ]
    },
    {
      "cell_type": "markdown",
      "source": [
        "La línea print no está indentada, por lo que el intérprete no la reconoce como parte de la función saludar().\n",
        "\n",
        "Simplemente, se añade la indentación correcta (generalmente 4 espacios) a la línea que pertenece al bloque."
      ],
      "metadata": {
        "id": "PCpUxxX55QtH"
      }
    },
    {
      "cell_type": "code",
      "source": [
        "def saludar():\n",
        "  print(\"Hola, mundo\")"
      ],
      "metadata": {
        "id": "mMGFUq7j37Pd"
      },
      "execution_count": 7,
      "outputs": []
    },
    {
      "cell_type": "markdown",
      "source": [
        "###2. SyntaxError\n",
        "Se produce cuando el código tiene un error de sintaxis, es decir, no sigue las reglas gramaticales del lenguaje. Puede ser un paréntesis o una comilla faltante, una palabra clave mal escrita, etc. Es uno de los errores más fáciles de detectar porque el intérprete lo señala de inmediato."
      ],
      "metadata": {
        "id": "1QZhSevW4LH_"
      }
    },
    {
      "cell_type": "code",
      "source": [
        "print(\"Hola, mundo'"
      ],
      "metadata": {
        "colab": {
          "base_uri": "https://localhost:8080/",
          "height": 106
        },
        "id": "SWW1L8hT4ZSZ",
        "outputId": "1a8edf17-f460-4aef-80bf-6378b99782be"
      },
      "execution_count": 8,
      "outputs": [
        {
          "output_type": "error",
          "ename": "SyntaxError",
          "evalue": "unterminated string literal (detected at line 1) (ipython-input-986670589.py, line 1)",
          "traceback": [
            "\u001b[0;36m  File \u001b[0;32m\"/tmp/ipython-input-986670589.py\"\u001b[0;36m, line \u001b[0;32m1\u001b[0m\n\u001b[0;31m    print(\"Hola, mundo'\u001b[0m\n\u001b[0m          ^\u001b[0m\n\u001b[0;31mSyntaxError\u001b[0m\u001b[0;31m:\u001b[0m unterminated string literal (detected at line 1)\n"
          ]
        }
      ]
    },
    {
      "cell_type": "markdown",
      "source": [
        " La cadena de texto no está cerrada correctamente con la misma comilla de inicio (\").\n",
        "\n",
        " Hay que asegurarse de que todos los elementos del código, como paréntesis, corchetes y comillas, estén correctamente cerrados."
      ],
      "metadata": {
        "id": "k9jXLZCs5QFL"
      }
    },
    {
      "cell_type": "code",
      "source": [
        "print(\"Hola, mundo\")"
      ],
      "metadata": {
        "colab": {
          "base_uri": "https://localhost:8080/"
        },
        "id": "crGAJTjo4ZvH",
        "outputId": "a2975ca4-93fa-478e-efa9-0f9b10e25abf"
      },
      "execution_count": 9,
      "outputs": [
        {
          "output_type": "stream",
          "name": "stdout",
          "text": [
            "Hola, mundo\n"
          ]
        }
      ]
    },
    {
      "cell_type": "markdown",
      "source": [
        "###3. NameError\n",
        "Ocurre cuando intentas usar una variable o una función que no ha sido definida o a la que no se puede acceder en el ámbito actual. En otras palabras, Python no sabe a qué te refieres con ese nombre."
      ],
      "metadata": {
        "id": "F6SnQk5M4Mrf"
      }
    },
    {
      "cell_type": "code",
      "source": [
        "mensaje = \"Hola, mundo\"\n",
        "print(memsaje)"
      ],
      "metadata": {
        "colab": {
          "base_uri": "https://localhost:8080/",
          "height": 159
        },
        "id": "QN-DOkJ04qWK",
        "outputId": "14d94a9e-75b4-42b4-bd70-4582285452a6"
      },
      "execution_count": 11,
      "outputs": [
        {
          "output_type": "error",
          "ename": "NameError",
          "evalue": "name 'memsaje' is not defined",
          "traceback": [
            "\u001b[0;31m---------------------------------------------------------------------------\u001b[0m",
            "\u001b[0;31mNameError\u001b[0m                                 Traceback (most recent call last)",
            "\u001b[0;32m/tmp/ipython-input-1221490351.py\u001b[0m in \u001b[0;36m<cell line: 0>\u001b[0;34m()\u001b[0m\n\u001b[1;32m      1\u001b[0m \u001b[0mmensaje\u001b[0m \u001b[0;34m=\u001b[0m \u001b[0;34m\"Hola, mundo\"\u001b[0m\u001b[0;34m\u001b[0m\u001b[0;34m\u001b[0m\u001b[0m\n\u001b[0;32m----> 2\u001b[0;31m \u001b[0mprint\u001b[0m\u001b[0;34m(\u001b[0m\u001b[0mmemsaje\u001b[0m\u001b[0;34m)\u001b[0m\u001b[0;34m\u001b[0m\u001b[0;34m\u001b[0m\u001b[0m\n\u001b[0m",
            "\u001b[0;31mNameError\u001b[0m: name 'memsaje' is not defined"
          ]
        }
      ]
    },
    {
      "cell_type": "markdown",
      "source": [
        "Se intentó imprimir la variable memsaje, pero esta no ha sido definida. La variable correcta es mensaje.\n",
        "\n",
        "Revisar la ortografía de las variables y asegúrarse de que se hayan inicializado antes de ser utilizadas."
      ],
      "metadata": {
        "id": "HkHwOzR15PZl"
      }
    },
    {
      "cell_type": "code",
      "source": [
        "mensaje = \"Hola, mundo\"\n",
        "print(mensaje)"
      ],
      "metadata": {
        "colab": {
          "base_uri": "https://localhost:8080/"
        },
        "id": "d5kE9ETc4qPs",
        "outputId": "dfc7fad6-39aa-49c4-ffb2-a8442b04e8b6"
      },
      "execution_count": 10,
      "outputs": [
        {
          "output_type": "stream",
          "name": "stdout",
          "text": [
            "Hola, mundo\n"
          ]
        }
      ]
    },
    {
      "cell_type": "markdown",
      "source": [
        "###4. TypeError\n",
        "Este error se lanza cuando una operación o función se aplica a un objeto de un tipo incompatible. Python, al ser un lenguaje de tipado dinámico, es flexible, pero ciertas operaciones requieren tipos específicos (por ejemplo, no puedes sumar un número a una cadena de texto)."
      ],
      "metadata": {
        "id": "QqwYtn1l4NbN"
      }
    },
    {
      "cell_type": "code",
      "source": [
        "nombre = \"Ana\"\n",
        "edad = 25\n",
        "print(nombre + edad)"
      ],
      "metadata": {
        "colab": {
          "base_uri": "https://localhost:8080/",
          "height": 176
        },
        "id": "i-lmyB5Y4p1m",
        "outputId": "d3783c70-bb92-47a9-b0d6-148fe2d12d71"
      },
      "execution_count": 12,
      "outputs": [
        {
          "output_type": "error",
          "ename": "TypeError",
          "evalue": "can only concatenate str (not \"int\") to str",
          "traceback": [
            "\u001b[0;31m---------------------------------------------------------------------------\u001b[0m",
            "\u001b[0;31mTypeError\u001b[0m                                 Traceback (most recent call last)",
            "\u001b[0;32m/tmp/ipython-input-2111885748.py\u001b[0m in \u001b[0;36m<cell line: 0>\u001b[0;34m()\u001b[0m\n\u001b[1;32m      1\u001b[0m \u001b[0mnombre\u001b[0m \u001b[0;34m=\u001b[0m \u001b[0;34m\"Ana\"\u001b[0m\u001b[0;34m\u001b[0m\u001b[0;34m\u001b[0m\u001b[0m\n\u001b[1;32m      2\u001b[0m \u001b[0medad\u001b[0m \u001b[0;34m=\u001b[0m \u001b[0;36m25\u001b[0m\u001b[0;34m\u001b[0m\u001b[0;34m\u001b[0m\u001b[0m\n\u001b[0;32m----> 3\u001b[0;31m \u001b[0mprint\u001b[0m\u001b[0;34m(\u001b[0m\u001b[0mnombre\u001b[0m \u001b[0;34m+\u001b[0m \u001b[0medad\u001b[0m\u001b[0;34m)\u001b[0m\u001b[0;34m\u001b[0m\u001b[0;34m\u001b[0m\u001b[0m\n\u001b[0m",
            "\u001b[0;31mTypeError\u001b[0m: can only concatenate str (not \"int\") to str"
          ]
        }
      ]
    },
    {
      "cell_type": "markdown",
      "source": [
        "El operador + no puede concatenar una cadena (str) y un entero (int). Python no sabe si quieres que el resultado sea un número o una cadena.\n",
        "\n",
        "Convierte el número a una cadena de texto antes de concatenarlo o usa f-strings, que son la forma moderna y más legible de formatear cadenas."
      ],
      "metadata": {
        "id": "DS8GG2CO5Oxs"
      }
    },
    {
      "cell_type": "code",
      "source": [
        "nombre = \"Ana\"\n",
        "edad = 25\n",
        "print(f\"{nombre} tiene {edad} años\")"
      ],
      "metadata": {
        "colab": {
          "base_uri": "https://localhost:8080/"
        },
        "id": "xpX3opd74psr",
        "outputId": "5cfd08ee-80f9-4a61-8917-bd9d50c6992d"
      },
      "execution_count": 13,
      "outputs": [
        {
          "output_type": "stream",
          "name": "stdout",
          "text": [
            "Ana tiene 25 años\n"
          ]
        }
      ]
    },
    {
      "cell_type": "markdown",
      "source": [
        "###5. IndexError\n",
        "Este error ocurre cuando intentas acceder a un índice de una lista, tupla o cadena que no existe. Los índices en Python siempre comienzan en 0 y terminan en longitud-1."
      ],
      "metadata": {
        "id": "RInHRX4s4NiD"
      }
    },
    {
      "cell_type": "code",
      "source": [
        "frutas = [\"manzana\", \"banana\", \"cereza\"]\n",
        "print(frutas[3])"
      ],
      "metadata": {
        "colab": {
          "base_uri": "https://localhost:8080/",
          "height": 159
        },
        "id": "_XSDg3iH4pSW",
        "outputId": "12b3af43-091d-4cbd-fc48-23122d61357d"
      },
      "execution_count": 14,
      "outputs": [
        {
          "output_type": "error",
          "ename": "IndexError",
          "evalue": "list index out of range",
          "traceback": [
            "\u001b[0;31m---------------------------------------------------------------------------\u001b[0m",
            "\u001b[0;31mIndexError\u001b[0m                                Traceback (most recent call last)",
            "\u001b[0;32m/tmp/ipython-input-2018341466.py\u001b[0m in \u001b[0;36m<cell line: 0>\u001b[0;34m()\u001b[0m\n\u001b[1;32m      1\u001b[0m \u001b[0mfrutas\u001b[0m \u001b[0;34m=\u001b[0m \u001b[0;34m[\u001b[0m\u001b[0;34m\"manzana\"\u001b[0m\u001b[0;34m,\u001b[0m \u001b[0;34m\"banana\"\u001b[0m\u001b[0;34m,\u001b[0m \u001b[0;34m\"cereza\"\u001b[0m\u001b[0;34m]\u001b[0m\u001b[0;34m\u001b[0m\u001b[0;34m\u001b[0m\u001b[0m\n\u001b[0;32m----> 2\u001b[0;31m \u001b[0mprint\u001b[0m\u001b[0;34m(\u001b[0m\u001b[0mfrutas\u001b[0m\u001b[0;34m[\u001b[0m\u001b[0;36m3\u001b[0m\u001b[0;34m]\u001b[0m\u001b[0;34m)\u001b[0m\u001b[0;34m\u001b[0m\u001b[0;34m\u001b[0m\u001b[0m\n\u001b[0m",
            "\u001b[0;31mIndexError\u001b[0m: list index out of range"
          ]
        }
      ]
    },
    {
      "cell_type": "markdown",
      "source": [
        "La lista frutas tiene 3 elementos, con índices 0, 1, y 2. Al intentar acceder al índice 3, se produce el error porque está fuera de los límites de la lista.\n",
        "\n",
        "Asegúrate de que el índice que utilizas para acceder a un elemento sea válido.\n"
      ],
      "metadata": {
        "id": "-sn4KopG5NlK"
      }
    },
    {
      "cell_type": "code",
      "source": [
        "frutas = [\"manzana\", \"banana\", \"cereza\"]\n",
        "print(frutas[2])"
      ],
      "metadata": {
        "colab": {
          "base_uri": "https://localhost:8080/"
        },
        "id": "SmjFIR684peV",
        "outputId": "ded59af7-c5ca-46e4-d905-00dc70c81856"
      },
      "execution_count": 15,
      "outputs": [
        {
          "output_type": "stream",
          "name": "stdout",
          "text": [
            "cereza\n"
          ]
        }
      ]
    }
  ]
}