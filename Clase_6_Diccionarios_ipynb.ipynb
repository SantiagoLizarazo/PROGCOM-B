{
  "nbformat": 4,
  "nbformat_minor": 0,
  "metadata": {
    "colab": {
      "provenance": [],
      "authorship_tag": "ABX9TyPZYd1kIcT07Z1TdLea3k9p",
      "include_colab_link": true
    },
    "kernelspec": {
      "name": "python3",
      "display_name": "Python 3"
    },
    "language_info": {
      "name": "python"
    }
  },
  "cells": [
    {
      "cell_type": "markdown",
      "metadata": {
        "id": "view-in-github",
        "colab_type": "text"
      },
      "source": [
        "<a href=\"https://colab.research.google.com/github/SantiagoLizarazo/PROGCOM-B/blob/main/Clase_6_Diccionarios_ipynb.ipynb\" target=\"_parent\"><img src=\"https://colab.research.google.com/assets/colab-badge.svg\" alt=\"Open In Colab\"/></a>"
      ]
    },
    {
      "cell_type": "markdown",
      "source": [
        "##**Funciones (Diccionario y Listas)**"
      ],
      "metadata": {
        "id": "Ant0o6Jp4BOs"
      }
    },
    {
      "cell_type": "markdown",
      "source": [
        "###1. Crea una función que reciba una lista de nombres y retorne cuántos nombres comienzan con vocal."
      ],
      "metadata": {
        "id": "WF5gR0gX4JY7"
      }
    },
    {
      "cell_type": "markdown",
      "source": [
        "###Listas."
      ],
      "metadata": {
        "id": "QGk40HUX829S"
      }
    },
    {
      "cell_type": "code",
      "execution_count": 33,
      "metadata": {
        "colab": {
          "base_uri": "https://localhost:8080/"
        },
        "id": "HM20HEts0mjX",
        "outputId": "24cd0952-26a8-4f80-a4cf-3ae7a3263d8a"
      },
      "outputs": [
        {
          "output_type": "stream",
          "name": "stdout",
          "text": [
            "5\n"
          ]
        }
      ],
      "source": [
        "def contar_nombres_con_vocal(nombres):\n",
        "    return len([nombre for nombre in nombres if nombre[0].lower() in \"aeiou\"])\n",
        "\n",
        "nombres= [nombre for nombre in [\"Ana\", \"Luis\", \"Oscar\", \"Elena\", \"Carlos\", \"Irene\", \"Ursula\"]]\n",
        "\n",
        "print(contar_nombres_con_vocal(nombres))"
      ]
    },
    {
      "cell_type": "markdown",
      "source": [
        "###Diccionarios."
      ],
      "metadata": {
        "id": "vEysoYDk8iW5"
      }
    },
    {
      "cell_type": "code",
      "source": [
        "def nombres_vocal(nombres):\n",
        "    contador = 0\n",
        "    for nombre in nombres:\n",
        "        if nombre[0].lower() in \"aeiou\":\n",
        "            contador += 1\n",
        "    return contador\n",
        "\n",
        "datos= {\"nombres\": [\"Ana\", \"Luis\", \"Oscar\", \"Elena\", \"Carlos\", \"Irene\", \"Ursula\"]}\n",
        "\n",
        "print(nombres_vocal(datos[\"nombres\"]))"
      ],
      "metadata": {
        "colab": {
          "base_uri": "https://localhost:8080/"
        },
        "id": "UKLC98uq7KK5",
        "outputId": "b271a869-7af3-434d-ca7f-b9dcd772f267"
      },
      "execution_count": 32,
      "outputs": [
        {
          "output_type": "stream",
          "name": "stdout",
          "text": [
            "5\n"
          ]
        }
      ]
    },
    {
      "cell_type": "markdown",
      "source": [
        "###2. Crea una función que reciba una lista y retorne otra lista sin elementos repetidos."
      ],
      "metadata": {
        "id": "fYdqKLbe4WSL"
      }
    },
    {
      "cell_type": "markdown",
      "source": [
        "###Listas."
      ],
      "metadata": {
        "id": "huhJx8pd9Ryh"
      }
    },
    {
      "cell_type": "code",
      "source": [
        "def eliminar_repetidos(lista):\n",
        "    return list({x for x in lista})\n",
        "\n",
        "lista= [x for x in [\"a\", \"b\", \"a\", \"c\", \"b\", \"d\"]]\n",
        "\n",
        "print(eliminar_repetidos(lista))"
      ],
      "metadata": {
        "colab": {
          "base_uri": "https://localhost:8080/"
        },
        "id": "u9r_jt1D5hLD",
        "outputId": "f5330ba6-8f7a-48fb-fc14-0ec80603a5cb"
      },
      "execution_count": 21,
      "outputs": [
        {
          "output_type": "stream",
          "name": "stdout",
          "text": [
            "['d', 'c', 'b', 'a']\n"
          ]
        }
      ]
    },
    {
      "cell_type": "markdown",
      "source": [
        "###Diccionarios."
      ],
      "metadata": {
        "id": "-Fh_dRRD878h"
      }
    },
    {
      "cell_type": "code",
      "source": [
        "def eliminar_repetidos(lista):\n",
        "    unicos = []\n",
        "    for item in lista:\n",
        "        if item not in unicos:\n",
        "            unicos.append(item)\n",
        "    return unicos\n",
        "\n",
        "repetidos= {\"valores\": [\"a\", \"b\", \"a\", \"c\", \"b\", \"d\"]}\n",
        "\n",
        "print(eliminar_repetidos(repetidos[\"valores\"]))"
      ],
      "metadata": {
        "colab": {
          "base_uri": "https://localhost:8080/"
        },
        "id": "vTHGvum27aqS",
        "outputId": "c4014dff-22c8-4c5b-d096-b93a1722351c"
      },
      "execution_count": 34,
      "outputs": [
        {
          "output_type": "stream",
          "name": "stdout",
          "text": [
            "['a', 'b', 'c', 'd']\n"
          ]
        }
      ]
    },
    {
      "cell_type": "markdown",
      "source": [
        "###3. Crea una función que reciba una lista de números y retorne solo los que son primos."
      ],
      "metadata": {
        "id": "pw5Q5PfO4cFl"
      }
    },
    {
      "cell_type": "markdown",
      "source": [
        "###Listas."
      ],
      "metadata": {
        "id": "vLELiaSJ9SNS"
      }
    },
    {
      "cell_type": "code",
      "source": [
        "def es_primo(n):\n",
        "    return n > 1 and all(n % i != 0 for i in range(2, int(n**0.5)+1))\n",
        "\n",
        "def filtrar_primos(numeros):\n",
        "    return [n for n in numeros if es_primo(n)]\n",
        "\n",
        "numeros= [x for x in range(1, 20)]\n",
        "\n",
        "print(filtrar_primos(numeros))"
      ],
      "metadata": {
        "colab": {
          "base_uri": "https://localhost:8080/"
        },
        "id": "xmiUirip5iRL",
        "outputId": "080a7585-3e89-4664-c672-7d05883405d6"
      },
      "execution_count": 23,
      "outputs": [
        {
          "output_type": "stream",
          "name": "stdout",
          "text": [
            "[2, 3, 5, 7, 11, 13, 17, 19]\n"
          ]
        }
      ]
    },
    {
      "cell_type": "markdown",
      "source": [
        "###Diccionarios."
      ],
      "metadata": {
        "id": "MaoDW5kk89ax"
      }
    },
    {
      "cell_type": "code",
      "source": [
        "def es_primo(n):\n",
        "    if n <= 1:\n",
        "        return False\n",
        "    for i in range(2, int(n**0.5) + 1):\n",
        "        if n % i == 0:\n",
        "            return False\n",
        "    return True\n",
        "\n",
        "def filtrar_primos(numeros):\n",
        "    primos= []\n",
        "    for num in numeros:\n",
        "        if es_primo(num):\n",
        "            primos.append(num)\n",
        "    return primos\n",
        "\n",
        "prim= {\"numeros\": list(range(1, 20))}\n",
        "\n",
        "print(filtrar_primos(prim[\"numeros\"]))"
      ],
      "metadata": {
        "colab": {
          "base_uri": "https://localhost:8080/"
        },
        "id": "VoCp_-T37sZh",
        "outputId": "dbbce448-b9a9-432f-d7ab-1e3b3b7794c7"
      },
      "execution_count": 35,
      "outputs": [
        {
          "output_type": "stream",
          "name": "stdout",
          "text": [
            "[2, 3, 5, 7, 11, 13, 17, 19]\n"
          ]
        }
      ]
    },
    {
      "cell_type": "markdown",
      "source": [
        "###4. Crea una función que reciba un diccionario con claves \"nombre\" y \"edad\" y retorne un mensaje con esos datos."
      ],
      "metadata": {
        "id": "AsTabOH04cUk"
      }
    },
    {
      "cell_type": "markdown",
      "source": [
        "###Listas."
      ],
      "metadata": {
        "id": "xMEktJkQ9Soh"
      }
    },
    {
      "cell_type": "code",
      "source": [
        "mensajes= [f\"{persona['nombre']} tiene {persona['edad']} años.\" for persona in [{\"nombre\": \"Lucía\", \"edad\": 22},\n",
        "                                                                                    {\"nombre\": \"Carlos\", \"edad\": 18},\n",
        "                                                                                    {\"nombre\": \"Ana\", \"edad\": 25}]]\n",
        "\n",
        "print(mensajes)"
      ],
      "metadata": {
        "colab": {
          "base_uri": "https://localhost:8080/"
        },
        "id": "_4GxmL3z8EEB",
        "outputId": "577f4716-d13b-4148-e5d3-685c2329393b"
      },
      "execution_count": 39,
      "outputs": [
        {
          "output_type": "stream",
          "name": "stdout",
          "text": [
            "['Lucía tiene 22 años.', 'Carlos tiene 18 años.', 'Ana tiene 25 años.']\n"
          ]
        }
      ]
    },
    {
      "cell_type": "markdown",
      "source": [
        "###Diccionarios."
      ],
      "metadata": {
        "id": "6j6iJ00F8-ix"
      }
    },
    {
      "cell_type": "code",
      "source": [
        "def mensaje_nombre_edad(datos):\n",
        "    return f\"{datos['nombre']} tiene {datos['edad']} años.\"\n",
        "\n",
        "datos= {x: y for x, y in zip(['nombre', 'edad'], ['Lucía', 22])}\n",
        "\n",
        "print(mensaje_nombre_edad(datos))"
      ],
      "metadata": {
        "colab": {
          "base_uri": "https://localhost:8080/"
        },
        "id": "zt8a11fl5kKi",
        "outputId": "911a9201-4248-449a-990c-3eb41f012667"
      },
      "execution_count": 36,
      "outputs": [
        {
          "output_type": "stream",
          "name": "stdout",
          "text": [
            "Lucía tiene 22 años.\n"
          ]
        }
      ]
    },
    {
      "cell_type": "markdown",
      "source": [
        "###5. Crea una función que reciba un diccionario de productos (clave: nombre, valor: precio) y retorne el total."
      ],
      "metadata": {
        "id": "HawCy6PM4c20"
      }
    },
    {
      "cell_type": "markdown",
      "source": [
        "###Listas."
      ],
      "metadata": {
        "id": "us3w0uvq9TIh"
      }
    },
    {
      "cell_type": "code",
      "source": [
        "def total_productos(productos):\n",
        "    return sum([precio for precio in productos.values()])\n",
        "\n",
        "productos= {nombre: precio for nombre, precio in [(\"pan\", 1500), (\"leche\", 2000), (\"queso\", 3500)]}\n",
        "\n",
        "print(total_productos(productos))"
      ],
      "metadata": {
        "colab": {
          "base_uri": "https://localhost:8080/"
        },
        "id": "xodQ_U5U5kxy",
        "outputId": "6c0b99da-de37-4279-ce56-81af97604c75"
      },
      "execution_count": 43,
      "outputs": [
        {
          "output_type": "stream",
          "name": "stdout",
          "text": [
            "7000\n"
          ]
        }
      ]
    },
    {
      "cell_type": "markdown",
      "source": [
        "###Diccionarios."
      ],
      "metadata": {
        "id": "olgceh259AcR"
      }
    },
    {
      "cell_type": "code",
      "source": [
        "productos_14= {\"pan\": 1500,\n",
        "                \"leche\": 2000,\n",
        "                \"queso\": 3500}\n",
        "\n",
        "def total_productos(dic):\n",
        "    return sum(dic.values())\n",
        "\n",
        "print(total_productos(productos_14))"
      ],
      "metadata": {
        "colab": {
          "base_uri": "https://localhost:8080/"
        },
        "id": "CTKA7oaM8ZGC",
        "outputId": "ed9314af-5d6f-4e13-9f28-4952605eddfc"
      },
      "execution_count": 44,
      "outputs": [
        {
          "output_type": "stream",
          "name": "stdout",
          "text": [
            "7000\n"
          ]
        }
      ]
    },
    {
      "cell_type": "markdown",
      "source": [
        "###6. Crea una función que reciba un diccionario de estudiantes (clave: nombre, valor: nota) y retorne el promedio."
      ],
      "metadata": {
        "id": "02qN_TH24c-0"
      }
    },
    {
      "cell_type": "markdown",
      "source": [
        "###Listas."
      ],
      "metadata": {
        "id": "67dyTPDf9TZR"
      }
    },
    {
      "cell_type": "code",
      "source": [
        "def promedio_notas(estudiantes):\n",
        "    return sum([nota for nota in estudiantes.values()]) / len(estudiantes)\n",
        "\n",
        "estudiantes= {nombre: nota for nombre, nota in [(\"Ana\", 8), (\"Luis\", 9), (\"Marta\", 7)]}\n",
        "\n",
        "print(promedio_notas(estudiantes))"
      ],
      "metadata": {
        "colab": {
          "base_uri": "https://localhost:8080/"
        },
        "id": "_tT7VKWn5lN6",
        "outputId": "eb2c1ffd-3998-4f4d-c6da-a92baf2ef926"
      },
      "execution_count": 25,
      "outputs": [
        {
          "output_type": "stream",
          "name": "stdout",
          "text": [
            "8.0\n"
          ]
        }
      ]
    },
    {
      "cell_type": "markdown",
      "source": [
        "###Diccionarios."
      ],
      "metadata": {
        "id": "YZBdhrYQ9HcB"
      }
    },
    {
      "cell_type": "code",
      "source": [
        "notas_15= {\"Ana\": 8,\n",
        "            \"Luis\": 9,\n",
        "            \"Pedro\": 7}\n",
        "\n",
        "def promedio(dic):\n",
        "    return sum(dic.values()) / len(dic)\n",
        "\n",
        "print(promedio(notas_15))"
      ],
      "metadata": {
        "colab": {
          "base_uri": "https://localhost:8080/"
        },
        "id": "FnueSO4K8Zs0",
        "outputId": "d4219fe5-390b-41cb-e97f-6ae7a79a75ff"
      },
      "execution_count": 45,
      "outputs": [
        {
          "output_type": "stream",
          "name": "stdout",
          "text": [
            "8.0\n"
          ]
        }
      ]
    },
    {
      "cell_type": "markdown",
      "source": [
        "###7. Crea una función que reciba un diccionario y un nombre, y retorne la nota si existe o \"no encontrado\"."
      ],
      "metadata": {
        "id": "sabf8BY54dG0"
      }
    },
    {
      "cell_type": "markdown",
      "source": [
        "###Listas."
      ],
      "metadata": {
        "id": "4Vkpbx6V9T2C"
      }
    },
    {
      "cell_type": "code",
      "source": [
        "notas_dict= {\"Oscar\": 4, \"Luis\": 1, \"Marta\": 10}\n",
        "\n",
        "nombres_a_buscar = [\"Ana\", \"Pedro\", \"Marta\"]\n",
        "\n",
        "resultados= [notas_dict[n] if n in notas_dict else \"no encontrado\" for n in nombres_a_buscar]\n",
        "\n",
        "print(resultados)"
      ],
      "metadata": {
        "colab": {
          "base_uri": "https://localhost:8080/"
        },
        "id": "BXOvyZ9X5lnj",
        "outputId": "c8143b23-5974-4ffd-9b52-2b45500476f1"
      },
      "execution_count": 46,
      "outputs": [
        {
          "output_type": "stream",
          "name": "stdout",
          "text": [
            "['no encontrado', 'no encontrado', 10]\n"
          ]
        }
      ]
    },
    {
      "cell_type": "markdown",
      "source": [
        "###Diccionarios."
      ],
      "metadata": {
        "id": "5p1qzobF9Ihh"
      }
    },
    {
      "cell_type": "code",
      "source": [
        "estudiantes= {\"Marta\": 10,\n",
        "              \"Luis\": 1}\n",
        "\n",
        "def buscar(dic, nombre):\n",
        "    return dic[nombre] if nombre in dic else \"no encontrado\"\n",
        "\n",
        "print(buscar(estudiantes, \"Marta\"))"
      ],
      "metadata": {
        "colab": {
          "base_uri": "https://localhost:8080/"
        },
        "id": "iap_-G608aag",
        "outputId": "1e95893d-554b-4b2f-f469-4bb6baaed1c5"
      },
      "execution_count": 50,
      "outputs": [
        {
          "output_type": "stream",
          "name": "stdout",
          "text": [
            "10\n"
          ]
        }
      ]
    },
    {
      "cell_type": "markdown",
      "source": [
        "###8. Crea una función que reciba un diccionario y retorne el nombre del estudiante con mayor nota."
      ],
      "metadata": {
        "id": "6PfjIK6x4dOk"
      }
    },
    {
      "cell_type": "markdown",
      "source": [
        "###Listas."
      ],
      "metadata": {
        "id": "n-V3IXXb9UQy"
      }
    },
    {
      "cell_type": "code",
      "source": [
        "notas= {\"Ana\": 7, \"Luis\": 9, \"Clara\": 8}\n",
        "\n",
        "mejor_estudiante= [max(notas, key=lambda nombre: notas[nombre])]\n",
        "\n",
        "print(mejor_estudiante)"
      ],
      "metadata": {
        "colab": {
          "base_uri": "https://localhost:8080/"
        },
        "id": "kt195t805mBq",
        "outputId": "9c5b96b7-0526-4a88-d0ab-f9166e27e4c9"
      },
      "execution_count": 51,
      "outputs": [
        {
          "output_type": "stream",
          "name": "stdout",
          "text": [
            "['Luis']\n"
          ]
        }
      ]
    },
    {
      "cell_type": "markdown",
      "source": [
        "###Diccionarios."
      ],
      "metadata": {
        "id": "s_bX3X4q9JQh"
      }
    },
    {
      "cell_type": "code",
      "source": [
        "notas= {\"Ana\": 7,\n",
        "        \"Luis\": 9,\n",
        "        \"Clara\": 8}\n",
        "\n",
        "def mejor_estudiante(dic):\n",
        "    return max(dic, key=lambda x: dic[x])\n",
        "\n",
        "print(mejor_estudiante(notas))"
      ],
      "metadata": {
        "colab": {
          "base_uri": "https://localhost:8080/"
        },
        "id": "Jke3zYIy8awo",
        "outputId": "76479ce2-f8a0-4040-d2a7-2960ef388541"
      },
      "execution_count": 53,
      "outputs": [
        {
          "output_type": "stream",
          "name": "stdout",
          "text": [
            "Luis\n"
          ]
        }
      ]
    },
    {
      "cell_type": "markdown",
      "source": [
        "###9. Crea una función que reciba un diccionario de productos y retorne los productos con precios mayores a un valor dado."
      ],
      "metadata": {
        "id": "IYQ1WetY4dXE"
      }
    },
    {
      "cell_type": "markdown",
      "source": [
        "###Listas."
      ],
      "metadata": {
        "id": "4JcFK9AL9Upx"
      }
    },
    {
      "cell_type": "code",
      "source": [
        "productos= {\"pan\": 3000, \"vino\": 12000, \"queso\": 9000, \"carne\": 15000}\n",
        "valor_limite = 10000\n",
        "\n",
        "productos_caros= [producto for producto, precio in productos.items() if precio > valor_limite]\n",
        "\n",
        "print(productos_caros)"
      ],
      "metadata": {
        "colab": {
          "base_uri": "https://localhost:8080/"
        },
        "id": "KEd79lKE5mhS",
        "outputId": "8dad6cff-476f-4d13-c106-2cb9f568ec63"
      },
      "execution_count": 55,
      "outputs": [
        {
          "output_type": "stream",
          "name": "stdout",
          "text": [
            "['vino', 'carne']\n"
          ]
        }
      ]
    },
    {
      "cell_type": "markdown",
      "source": [
        "###Diccionarios."
      ],
      "metadata": {
        "id": "txAlUcjD9Juh"
      }
    },
    {
      "cell_type": "code",
      "source": [
        "productos= {\"pan\": 3000,\n",
        "            \"carne\": 15000,\n",
        "            \"queso\": 9000}\n",
        "\n",
        "def filtrar_caros(dic, valor):\n",
        "    return {k: v for k, v in dic.items() if v > valor}\n",
        "\n",
        "print(filtrar_caros(productos, 10000))"
      ],
      "metadata": {
        "colab": {
          "base_uri": "https://localhost:8080/"
        },
        "id": "jHVzQKvO8bKI",
        "outputId": "d86ecd59-d30f-4b96-cdec-1def185bfd24"
      },
      "execution_count": 56,
      "outputs": [
        {
          "output_type": "stream",
          "name": "stdout",
          "text": [
            "{'carne': 15000}\n"
          ]
        }
      ]
    },
    {
      "cell_type": "markdown",
      "source": [
        "###10. Crea una función que reciba un diccionario de empleados (clave: nombre, valor: lista de horas trabajadas) y retorne el total de horas por empleado."
      ],
      "metadata": {
        "id": "T4c5SHI54deU"
      }
    },
    {
      "cell_type": "markdown",
      "source": [
        "###Listas."
      ],
      "metadata": {
        "id": "hmEh_VOI9VIy"
      }
    },
    {
      "cell_type": "code",
      "source": [
        "empleados= {\"Laura\": [5, 6, 7],\n",
        "            \"Tomás\": [8, 8, 3],\n",
        "            \"Sara\": [4, 4, 4]}\n",
        "\n",
        "horas_totales= [sum(horas) for horas in empleados.values()]\n",
        "\n",
        "print(horas_totales)"
      ],
      "metadata": {
        "colab": {
          "base_uri": "https://localhost:8080/"
        },
        "id": "orMM_SJR5nB6",
        "outputId": "0d8432b2-710c-4042-9343-cc66ce0768a3"
      },
      "execution_count": 57,
      "outputs": [
        {
          "output_type": "stream",
          "name": "stdout",
          "text": [
            "[18, 19, 12]\n"
          ]
        }
      ]
    },
    {
      "cell_type": "markdown",
      "source": [
        "###Diccionarios."
      ],
      "metadata": {
        "id": "4e8Xy4Fc9KPx"
      }
    },
    {
      "cell_type": "code",
      "source": [
        "empleados= {\"Ana\": [4, 4, 4],\n",
        "            \"Luis\": [6, 6, 9],\n",
        "            \"Clara\": [5, 5, 5]}\n",
        "\n",
        "def horas_totales(dic):\n",
        "    return {empleado: sum(horas) for empleado, horas in dic.items()}\n",
        "\n",
        "print(horas_totales(empleados))"
      ],
      "metadata": {
        "colab": {
          "base_uri": "https://localhost:8080/"
        },
        "id": "iBnvMFb88bs6",
        "outputId": "ae828e73-6279-4ba8-ebaf-bc345bb335ad"
      },
      "execution_count": 58,
      "outputs": [
        {
          "output_type": "stream",
          "name": "stdout",
          "text": [
            "{'Ana': 12, 'Luis': 21, 'Clara': 15}\n"
          ]
        }
      ]
    },
    {
      "cell_type": "markdown",
      "source": [
        "###11. Crea una función que reciba un diccionario anidado con datos de estudiantes (nombre {\"nota\": x, \"edad\": y}) y retorne el promedio de notas de los mayores de edad."
      ],
      "metadata": {
        "id": "aNFVVyuR5Q7j"
      }
    },
    {
      "cell_type": "markdown",
      "source": [
        "###Listas."
      ],
      "metadata": {
        "id": "3OgiExui9Vdx"
      }
    },
    {
      "cell_type": "code",
      "source": [
        "def promedio_mayores(dic_estudiantes):\n",
        "    notas = [datos['nota'] for datos in dic_estudiantes.values() if datos['edad'] >= 18]\n",
        "    return sum(notas) / len(notas) if notas else 0\n",
        "\n",
        "estudiantes= {nombre: {\"nota\": nota, \"edad\": edad} for nombre, nota, edad in [(\"Laura\", 9, 19),\n",
        "                                                                               (\"Tomás\", 6, 17),\n",
        "                                                                               (\"Sara\", 8, 21),\n",
        "                                                                               (\"Iván\", 7, 16)]}\n",
        "\n",
        "print(promedio_mayores(estudiantes))"
      ],
      "metadata": {
        "colab": {
          "base_uri": "https://localhost:8080/"
        },
        "id": "DEdKcHQv4Zh9",
        "outputId": "5419ab48-9fc3-4577-9c62-903b34f5020e"
      },
      "execution_count": 26,
      "outputs": [
        {
          "output_type": "stream",
          "name": "stdout",
          "text": [
            "8.5\n"
          ]
        }
      ]
    },
    {
      "cell_type": "markdown",
      "source": [
        "###Diccionarios."
      ],
      "metadata": {
        "id": "lCq8e6wK9KsS"
      }
    },
    {
      "cell_type": "code",
      "source": [
        "estudiantes= {\"Ana\": {\"nota\": 8, \"edad\": 19},\n",
        "              \"Luis\": {\"nota\": 6, \"edad\": 17},\n",
        "              \"Clara\": {\"nota\": 9, \"edad\": 21}}\n",
        "\n",
        "def promedio_mayores(dic):\n",
        "    notas = []\n",
        "    for datos in dic.values():\n",
        "        if datos[\"edad\"] >= 18:\n",
        "            notas.append(datos[\"nota\"])\n",
        "    return sum(notas) / len(notas) if notas else 0\n",
        "\n",
        "print(promedio_mayores(estudiantes))"
      ],
      "metadata": {
        "colab": {
          "base_uri": "https://localhost:8080/"
        },
        "id": "ar7H8aqT8cDp",
        "outputId": "42b9ce55-596e-460d-df0d-18e446bc63bd"
      },
      "execution_count": 59,
      "outputs": [
        {
          "output_type": "stream",
          "name": "stdout",
          "text": [
            "8.5\n"
          ]
        }
      ]
    }
  ]
}