{
  "nbformat": 4,
  "nbformat_minor": 0,
  "metadata": {
    "colab": {
      "provenance": [],
      "authorship_tag": "ABX9TyPLdUP8q0KV/m22GeZn0eLr",
      "include_colab_link": true
    },
    "kernelspec": {
      "name": "python3",
      "display_name": "Python 3"
    },
    "language_info": {
      "name": "python"
    }
  },
  "cells": [
    {
      "cell_type": "markdown",
      "metadata": {
        "id": "view-in-github",
        "colab_type": "text"
      },
      "source": [
        "<a href=\"https://colab.research.google.com/github/SantiagoLizarazo/PROGCOM-B/blob/main/Clase_2_Estructuras_de_repetici%C3%B3n.ipynb\" target=\"_parent\"><img src=\"https://colab.research.google.com/assets/colab-badge.svg\" alt=\"Open In Colab\"/></a>"
      ]
    },
    {
      "cell_type": "markdown",
      "source": [
        "##Estructuras de Repetición\n",
        "Se emplean cuando se requiere repetir una parte de código, dada una condición"
      ],
      "metadata": {
        "id": "4wUs1vNMlwtM"
      }
    },
    {
      "cell_type": "markdown",
      "source": [
        "##Listas\n",
        "* Las listas son un conjunto de tipo de datos, **indexados**, separados por comas, y encerrados entre [].\n",
        "* Todos los elementos dentro de una lista, se empiezan a contar desde 0.\n",
        "\n",
        "##Creación de listas\n",
        "* Forma general:lista=[]\n",
        "* Forma manual: animales=[\"gato\",\"perro\",\"zorro\",\"oso\"]\n",
        "* Por conversión: número=list(range(10))\n"
      ],
      "metadata": {
        "id": "wqnkcGhvwdwq"
      }
    },
    {
      "cell_type": "code",
      "source": [
        "lista=[]"
      ],
      "metadata": {
        "id": "FnpnqzStx_kH"
      },
      "execution_count": 8,
      "outputs": []
    },
    {
      "cell_type": "code",
      "source": [
        "type(lista)"
      ],
      "metadata": {
        "colab": {
          "base_uri": "https://localhost:8080/"
        },
        "id": "rN0wQAwpyHPv",
        "outputId": "09a31122-0feb-4f3b-ee13-2d3538f93dd7"
      },
      "execution_count": 9,
      "outputs": [
        {
          "output_type": "execute_result",
          "data": {
            "text/plain": [
              "list"
            ]
          },
          "metadata": {},
          "execution_count": 9
        }
      ]
    },
    {
      "cell_type": "code",
      "source": [
        "zorro=(1,2,3,4)\n",
        "animales=[\"gato\",\"perro\",zorro,\"oso\"]\n",
        "animales"
      ],
      "metadata": {
        "colab": {
          "base_uri": "https://localhost:8080/"
        },
        "id": "JwRtjiaeyQNo",
        "outputId": "fdca9656-2fb8-45e6-8989-080239d2b60c"
      },
      "execution_count": 11,
      "outputs": [
        {
          "output_type": "execute_result",
          "data": {
            "text/plain": [
              "['gato', 'perro', (1, 2, 3, 4), 'oso']"
            ]
          },
          "metadata": {},
          "execution_count": 11
        }
      ]
    },
    {
      "cell_type": "code",
      "source": [
        "type(zorro)"
      ],
      "metadata": {
        "colab": {
          "base_uri": "https://localhost:8080/"
        },
        "id": "MQRqfVU8ygzA",
        "outputId": "227e1891-7443-4656-e043-60f637e976e7"
      },
      "execution_count": 12,
      "outputs": [
        {
          "output_type": "execute_result",
          "data": {
            "text/plain": [
              "tuple"
            ]
          },
          "metadata": {},
          "execution_count": 12
        }
      ]
    },
    {
      "cell_type": "code",
      "source": [
        "número=list(range(10))\n",
        "número"
      ],
      "metadata": {
        "colab": {
          "base_uri": "https://localhost:8080/"
        },
        "id": "gFFYEQ3azck-",
        "outputId": "384d84d5-4280-43ed-96d7-cfd281dae8af"
      },
      "execution_count": 14,
      "outputs": [
        {
          "output_type": "execute_result",
          "data": {
            "text/plain": [
              "[0, 1, 2, 3, 4, 5, 6, 7, 8, 9]"
            ]
          },
          "metadata": {},
          "execution_count": 14
        }
      ]
    },
    {
      "cell_type": "code",
      "source": [
        "range(10)"
      ],
      "metadata": {
        "colab": {
          "base_uri": "https://localhost:8080/"
        },
        "id": "dt724SQjznOm",
        "outputId": "dca9fecf-d64e-4199-db87-8a634f9b5c13"
      },
      "execution_count": 15,
      "outputs": [
        {
          "output_type": "execute_result",
          "data": {
            "text/plain": [
              "range(0, 10)"
            ]
          },
          "metadata": {},
          "execution_count": 15
        }
      ]
    },
    {
      "cell_type": "markdown",
      "source": [
        "##Estructura para - for\n",
        "\n",
        "Se usa cuando\n",
        "* Se sabe **cuantas veces** se repite una acción.\n",
        "* Está compuesta por un contador y una condición.\n",
        "* **Contador**: Indentifica cuantas veces se va a repetir el bucle y con que frecuencia.\n",
        "* **Condición**: Evalúa cuando se detiene.\n",
        "\n",
        "Por definición:\n",
        "\n",
        "```\n",
        "for variable in renage(vi, vf+1, paso):\n",
        "  aquí se repite parte del código.\n",
        "```\n",
        "\n",
        "Donde:\n",
        "1. vi: Condición inicial. Donde arranco a contar.\n",
        "2. vf+1: Condición final. Donde dejo de contar+1.\n",
        "3. paso: Es la frecuencia de conteo.\n",
        "\n",
        "for para recorrido de listas\n",
        "flor=[\"amapola\",\"rosa\", \"tulipán\", \"orquídea\"]\n",
        "* El para va a iterar tantas veces como elementos tenga la lista\n",
        "* La variable dentro del para, toma como valor, cada elemento de la lista\n",
        "\n",
        "```\n",
        "for variable in lista:\n",
        "  variable\n",
        "```\n",
        "\n"
      ],
      "metadata": {
        "id": "s3cENGYTmGvD"
      }
    },
    {
      "cell_type": "code",
      "execution_count": 18,
      "metadata": {
        "colab": {
          "base_uri": "https://localhost:8080/"
        },
        "id": "RkYYrU7FkT6F",
        "outputId": "e1e9ee4f-3b50-4428-a372-4ec5da489d65"
      },
      "outputs": [
        {
          "output_type": "stream",
          "name": "stdout",
          "text": [
            "amapola\n",
            "rosa\n",
            "tulipán\n"
          ]
        }
      ],
      "source": [
        "#Creando una lista de nombre flor\n",
        "flor=[\"amapola\",\"rosa\", \"tulipán\", \"orquídea\"]\n",
        "for flores in flor:\n",
        "  print(flores)\n",
        "  if flores==\"tulipán\":\n",
        "    break"
      ]
    },
    {
      "cell_type": "markdown",
      "source": [
        "##Estructura While\n",
        "Se emplea cuando **No se Sabe** cuantas veces se debe repetir una acción, pero se conoce su parada (CP).\n",
        "* Una condición inicial: Dónde arranca el ciclo.\n",
        "* Una condición de para: Que indica dónde se detiene el ciclo.\n",
        "* Modificador de condición inicial\n",
        "\n",
        "Estructura general del mientras\n",
        "\n",
        "\n",
        "\n",
        "```\n",
        "Condición inicial\n",
        "while (condición==condición final)\n",
        ":\n",
        "  modificador de condición inicial\n",
        "```\n",
        "\n",
        "Modificadores de condición inicial\n",
        "* Banderas: Son booleanos\n",
        "* Son preguntas\n",
        "* Son contadores o acumuladores"
      ],
      "metadata": {
        "id": "X--TulU5247r"
      }
    }
  ]
}