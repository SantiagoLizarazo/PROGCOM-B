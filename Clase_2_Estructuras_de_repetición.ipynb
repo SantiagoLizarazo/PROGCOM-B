{
  "nbformat": 4,
  "nbformat_minor": 0,
  "metadata": {
    "colab": {
      "provenance": [],
      "authorship_tag": "ABX9TyO1gr4DqsrtYLPQ3hZr2RWK",
      "include_colab_link": true
    },
    "kernelspec": {
      "name": "python3",
      "display_name": "Python 3"
    },
    "language_info": {
      "name": "python"
    }
  },
  "cells": [
    {
      "cell_type": "markdown",
      "metadata": {
        "id": "view-in-github",
        "colab_type": "text"
      },
      "source": [
        "<a href=\"https://colab.research.google.com/github/SantiagoLizarazo/PROGCOM-B/blob/main/Clase_2_Estructuras_de_repetici%C3%B3n.ipynb\" target=\"_parent\"><img src=\"https://colab.research.google.com/assets/colab-badge.svg\" alt=\"Open In Colab\"/></a>"
      ]
    },
    {
      "cell_type": "markdown",
      "source": [
        "##Estructuras de Repetición\n",
        "Se emplean cuando se requiere repetir una parte de código, dada una condición"
      ],
      "metadata": {
        "id": "4wUs1vNMlwtM"
      }
    },
    {
      "cell_type": "markdown",
      "source": [
        "##Listas\n",
        "* Las listas son un conjunto de tipo de datos, **indexados**, separados por comas, y encerrados entre [].\n",
        "* Todos los elementos dentro de una lista, se empiezan a contar desde 0.\n",
        "\n",
        "##Creación de listas\n",
        "* Forma general:lista=[]\n",
        "* Forma manual: animales=[\"gato\",\"perro\",\"zorro\",\"oso\"]\n",
        "* Por conversión: número=list(range(10))\n",
        "* Son objetos"
      ],
      "metadata": {
        "id": "wqnkcGhvwdwq"
      }
    },
    {
      "cell_type": "code",
      "source": [
        "lista=[]"
      ],
      "metadata": {
        "id": "FnpnqzStx_kH"
      },
      "execution_count": null,
      "outputs": []
    },
    {
      "cell_type": "code",
      "source": [
        "lista=list(range(1,8))"
      ],
      "metadata": {
        "id": "z3_Yqh8dPuax"
      },
      "execution_count": null,
      "outputs": []
    },
    {
      "cell_type": "code",
      "source": [
        "lista.count()"
      ],
      "metadata": {
        "colab": {
          "base_uri": "https://localhost:8080/",
          "height": 141
        },
        "id": "he7lKgRyQT75",
        "outputId": "befbb86f-fd38-4285-a574-b076d9dda2c0"
      },
      "execution_count": null,
      "outputs": [
        {
          "output_type": "error",
          "ename": "TypeError",
          "evalue": "list.count() takes exactly one argument (0 given)",
          "traceback": [
            "\u001b[0;31m---------------------------------------------------------------------------\u001b[0m",
            "\u001b[0;31mTypeError\u001b[0m                                 Traceback (most recent call last)",
            "\u001b[0;32m/tmp/ipython-input-453950251.py\u001b[0m in \u001b[0;36m<cell line: 0>\u001b[0;34m()\u001b[0m\n\u001b[0;32m----> 1\u001b[0;31m \u001b[0mlista\u001b[0m\u001b[0;34m.\u001b[0m\u001b[0mcount\u001b[0m\u001b[0;34m(\u001b[0m\u001b[0;34m)\u001b[0m\u001b[0;34m\u001b[0m\u001b[0;34m\u001b[0m\u001b[0m\n\u001b[0m",
            "\u001b[0;31mTypeError\u001b[0m: list.count() takes exactly one argument (0 given)"
          ]
        }
      ]
    },
    {
      "cell_type": "code",
      "source": [
        "type(lista)"
      ],
      "metadata": {
        "colab": {
          "base_uri": "https://localhost:8080/"
        },
        "id": "rN0wQAwpyHPv",
        "outputId": "09a31122-0feb-4f3b-ee13-2d3538f93dd7"
      },
      "execution_count": null,
      "outputs": [
        {
          "output_type": "execute_result",
          "data": {
            "text/plain": [
              "list"
            ]
          },
          "metadata": {},
          "execution_count": 9
        }
      ]
    },
    {
      "cell_type": "code",
      "source": [
        "zorro=(1,2,3,4)\n",
        "animales=[\"gato\",\"perro\",zorro,\"oso\"]\n",
        "animales"
      ],
      "metadata": {
        "colab": {
          "base_uri": "https://localhost:8080/"
        },
        "id": "JwRtjiaeyQNo",
        "outputId": "fdca9656-2fb8-45e6-8989-080239d2b60c"
      },
      "execution_count": null,
      "outputs": [
        {
          "output_type": "execute_result",
          "data": {
            "text/plain": [
              "['gato', 'perro', (1, 2, 3, 4), 'oso']"
            ]
          },
          "metadata": {},
          "execution_count": 11
        }
      ]
    },
    {
      "cell_type": "code",
      "source": [
        "type(zorro)"
      ],
      "metadata": {
        "colab": {
          "base_uri": "https://localhost:8080/"
        },
        "id": "MQRqfVU8ygzA",
        "outputId": "227e1891-7443-4656-e043-60f637e976e7"
      },
      "execution_count": null,
      "outputs": [
        {
          "output_type": "execute_result",
          "data": {
            "text/plain": [
              "tuple"
            ]
          },
          "metadata": {},
          "execution_count": 12
        }
      ]
    },
    {
      "cell_type": "code",
      "source": [
        "número=list(range(10))\n",
        "número"
      ],
      "metadata": {
        "colab": {
          "base_uri": "https://localhost:8080/"
        },
        "id": "gFFYEQ3azck-",
        "outputId": "384d84d5-4280-43ed-96d7-cfd281dae8af"
      },
      "execution_count": null,
      "outputs": [
        {
          "output_type": "execute_result",
          "data": {
            "text/plain": [
              "[0, 1, 2, 3, 4, 5, 6, 7, 8, 9]"
            ]
          },
          "metadata": {},
          "execution_count": 14
        }
      ]
    },
    {
      "cell_type": "code",
      "source": [
        "range(10)"
      ],
      "metadata": {
        "colab": {
          "base_uri": "https://localhost:8080/"
        },
        "id": "dt724SQjznOm",
        "outputId": "dca9fecf-d64e-4199-db87-8a634f9b5c13"
      },
      "execution_count": null,
      "outputs": [
        {
          "output_type": "execute_result",
          "data": {
            "text/plain": [
              "range(0, 10)"
            ]
          },
          "metadata": {},
          "execution_count": 15
        }
      ]
    },
    {
      "cell_type": "markdown",
      "source": [
        "##Estructura para - for\n",
        "\n",
        "Se usa cuando\n",
        "* Se sabe **cuantas veces** se repite una acción.\n",
        "* Está compuesta por un contador y una condición.\n",
        "* **Contador**: Indentifica cuantas veces se va a repetir el bucle y con que frecuencia.\n",
        "* **Condición**: Evalúa cuando se detiene.\n",
        "\n",
        "Por definición:\n",
        "\n",
        "```\n",
        "for variable in renage(vi, vf+1, paso):\n",
        "  aquí se repite parte del código.\n",
        "```\n",
        "\n",
        "Donde:\n",
        "1. vi: Condición inicial. Donde arranco a contar.\n",
        "2. vf+1: Condición final. Donde dejo de contar+1.\n",
        "3. paso: Es la frecuencia de conteo.\n",
        "\n",
        "for para recorrido de listas\n",
        "flor=[\"amapola\",\"rosa\", \"tulipán\", \"orquídea\"]\n",
        "* El para va a iterar tantas veces como elementos tenga la lista\n",
        "* La variable dentro del para, toma como valor, cada elemento de la lista\n",
        "\n",
        "```\n",
        "for variable in lista:\n",
        "  variable\n",
        "```\n",
        "\n"
      ],
      "metadata": {
        "id": "s3cENGYTmGvD"
      }
    },
    {
      "cell_type": "code",
      "execution_count": null,
      "metadata": {
        "colab": {
          "base_uri": "https://localhost:8080/"
        },
        "id": "RkYYrU7FkT6F",
        "outputId": "e1e9ee4f-3b50-4428-a372-4ec5da489d65"
      },
      "outputs": [
        {
          "output_type": "stream",
          "name": "stdout",
          "text": [
            "amapola\n",
            "rosa\n",
            "tulipán\n"
          ]
        }
      ],
      "source": [
        "#Creando una lista de nombre flor\n",
        "flor=[\"amapola\",\"rosa\", \"tulipán\", \"orquídea\"]\n",
        "for flores in flor:\n",
        "  print(flores)\n",
        "  if flores==\"tulipán\":\n",
        "    break#Rompe la iteración"
      ]
    },
    {
      "cell_type": "code",
      "source": [
        "name=[]\n",
        "for nombres in range(5):\n",
        "  name.append(input(\"Ingrese su nombre: \"))"
      ],
      "metadata": {
        "colab": {
          "base_uri": "https://localhost:8080/"
        },
        "id": "h4vOGfafRRRP",
        "outputId": "464168b6-44f3-46b9-fed7-91c2e2ce75a4"
      },
      "execution_count": null,
      "outputs": [
        {
          "name": "stdout",
          "output_type": "stream",
          "text": [
            "Ingrese su nombre: 1\n",
            "Ingrese su nombre: 2\n",
            "Ingrese su nombre: 3\n",
            "Ingrese su nombre: 4\n",
            "Ingrese su nombre: 5\n"
          ]
        }
      ]
    },
    {
      "cell_type": "code",
      "source": [
        "name"
      ],
      "metadata": {
        "colab": {
          "base_uri": "https://localhost:8080/"
        },
        "id": "DA5dVsqHR-22",
        "outputId": "ce8bca93-3ea8-45f9-9157-5f638e69bfca"
      },
      "execution_count": null,
      "outputs": [
        {
          "output_type": "execute_result",
          "data": {
            "text/plain": [
              "['1', '2', '3', '4', '5']"
            ]
          },
          "metadata": {},
          "execution_count": 5
        }
      ]
    },
    {
      "cell_type": "markdown",
      "source": [
        "##Estructura While\n",
        "Se emplea cuando **No se Sabe** cuantas veces se debe repetir una acción, pero se conoce su parada (CP).\n",
        "* Una condición inicial: Dónde arranca el ciclo.\n",
        "* Una condición de para: Que indica dónde se detiene el ciclo.\n",
        "* Modificador de condición inicial\n",
        "\n",
        "Estructura general del mientras\n",
        "\n",
        "\n",
        "\n",
        "```\n",
        "Condición inicial\n",
        "while (condición==condición final)\n",
        ":\n",
        "  modificador de condición inicial\n",
        "```\n",
        "\n",
        "Modificadores de condición inicial\n",
        "* Banderas: Son booleanos\n",
        "* Son preguntas\n",
        "* Son contadores o acumuladores"
      ],
      "metadata": {
        "id": "X--TulU5247r"
      }
    },
    {
      "cell_type": "markdown",
      "source": [
        "##Ejercicios con Estructuras de Repetición"
      ],
      "metadata": {
        "id": "9YWFZoaQMISr"
      }
    },
    {
      "cell_type": "markdown",
      "source": [
        "1. Escribe un programa que imprima los números del 1 al 10."
      ],
      "metadata": {
        "id": "DNLod57nMMnk"
      }
    },
    {
      "cell_type": "code",
      "source": [
        "#for\n",
        "for numeros in range(1,11):\n",
        "  print(numeros)"
      ],
      "metadata": {
        "colab": {
          "base_uri": "https://localhost:8080/"
        },
        "id": "lbnoUO4DMHdM",
        "outputId": "3d417b88-1cef-490b-bf6a-2a1c48125615"
      },
      "execution_count": null,
      "outputs": [
        {
          "output_type": "stream",
          "name": "stdout",
          "text": [
            "1\n",
            "2\n",
            "3\n",
            "4\n",
            "5\n",
            "6\n",
            "7\n",
            "8\n",
            "9\n",
            "10\n"
          ]
        }
      ]
    },
    {
      "cell_type": "code",
      "source": [
        "#for-list\n",
        "list1=[]\n",
        "for numeros in (range(1,11)):\n",
        "  list1.append(numeros)\n",
        "print(list1)"
      ],
      "metadata": {
        "colab": {
          "base_uri": "https://localhost:8080/"
        },
        "id": "tACzgF08VSqk",
        "outputId": "28e8d5fe-e1dd-4fee-acd6-15699cea8995"
      },
      "execution_count": 10,
      "outputs": [
        {
          "output_type": "stream",
          "name": "stdout",
          "text": [
            "[1, 2, 3, 4, 5, 6, 7, 8, 9, 10]\n"
          ]
        }
      ]
    },
    {
      "cell_type": "markdown",
      "source": [
        "2. Escribe un programa que sume los números del 1 al 100."
      ],
      "metadata": {
        "id": "kJ9X-Tk3MStb"
      }
    },
    {
      "cell_type": "code",
      "source": [
        "#for\n",
        "total=0\n",
        "for numeros2 in range (1,101):\n",
        "  total += numeros2\n",
        "print(total)"
      ],
      "metadata": {
        "colab": {
          "base_uri": "https://localhost:8080/"
        },
        "id": "TcVAYuXiMUoL",
        "outputId": "c11a81b4-224a-4371-ad73-91978c2d3701"
      },
      "execution_count": null,
      "outputs": [
        {
          "output_type": "stream",
          "name": "stdout",
          "text": [
            "5050\n"
          ]
        }
      ]
    },
    {
      "cell_type": "code",
      "source": [
        "#for-list\n",
        "total=0\n",
        "list2=list(range(1,101))\n",
        "for numeros2 in list2:\n",
        "  total += numeros2\n",
        "print(total)"
      ],
      "metadata": {
        "colab": {
          "base_uri": "https://localhost:8080/"
        },
        "id": "2949LisTYjkQ",
        "outputId": "f578b5dd-1db0-45a6-e12b-5f3ecbe0764d"
      },
      "execution_count": 22,
      "outputs": [
        {
          "output_type": "stream",
          "name": "stdout",
          "text": [
            "5050\n"
          ]
        }
      ]
    },
    {
      "cell_type": "markdown",
      "source": [
        "3. Escribe un programa que imprima los múltiplos de 3 entre 1 y 30."
      ],
      "metadata": {
        "id": "wpobePHZMWJT"
      }
    },
    {
      "cell_type": "code",
      "source": [
        "#for\n",
        "for multiplos3 in range (1,31):\n",
        "  if multiplos3 % 3==0:\n",
        "    print(multiplos3)"
      ],
      "metadata": {
        "colab": {
          "base_uri": "https://localhost:8080/"
        },
        "id": "QakcIz9xMZ-T",
        "outputId": "82e80fb1-9abb-407e-d679-297169de9f1e"
      },
      "execution_count": null,
      "outputs": [
        {
          "output_type": "stream",
          "name": "stdout",
          "text": [
            "3\n",
            "6\n",
            "9\n",
            "12\n",
            "15\n",
            "18\n",
            "21\n",
            "24\n",
            "27\n",
            "30\n"
          ]
        }
      ]
    },
    {
      "cell_type": "code",
      "source": [
        "#for-list\n",
        "list3=[]\n",
        "for multiplos3 in range(1,31):\n",
        "    if multiplos3 % 3==0:\n",
        "      list3.append(multiplos3)\n",
        "print(list3)"
      ],
      "metadata": {
        "colab": {
          "base_uri": "https://localhost:8080/"
        },
        "id": "Mvusdiu-bPQV",
        "outputId": "47e70593-6ad9-4344-ea3e-7622e0dae414"
      },
      "execution_count": 8,
      "outputs": [
        {
          "output_type": "stream",
          "name": "stdout",
          "text": [
            "[3, 6, 9, 12, 15, 18, 21, 24, 27, 30]\n"
          ]
        }
      ]
    },
    {
      "cell_type": "markdown",
      "source": [
        "4. Escribe un programa que lea un número e imprima su tabla de multiplicar del 1 al 10."
      ],
      "metadata": {
        "id": "9wD5Vf2-MabD"
      }
    },
    {
      "cell_type": "code",
      "source": [
        "#for\n",
        "name=int(input(\"Introuduzca un número: \"))\n",
        "for tabla in range(1,11):\n",
        "  print(f\"{name} x {tabla} = {name*tabla}\")"
      ],
      "metadata": {
        "colab": {
          "base_uri": "https://localhost:8080/"
        },
        "id": "aWwSAF_zMdgD",
        "outputId": "df22cf87-2da3-4280-e463-bc8105aafa9e"
      },
      "execution_count": null,
      "outputs": [
        {
          "output_type": "stream",
          "name": "stdout",
          "text": [
            "Introuduzca un número: 5\n",
            "5 x 1 = 5\n",
            "5 x 2 = 10\n",
            "5 x 3 = 15\n",
            "5 x 4 = 20\n",
            "5 x 5 = 25\n",
            "5 x 6 = 30\n",
            "5 x 7 = 35\n",
            "5 x 8 = 40\n",
            "5 x 9 = 45\n",
            "5 x 10 = 50\n"
          ]
        }
      ]
    },
    {
      "cell_type": "code",
      "source": [
        "#for-list\n",
        "name=int(input(\"Introuduzca un número: \"))\n",
        "list4=[]\n",
        "for tabla in range(1,11):\n",
        "  list4.append(name*tabla)\n",
        "print(list4)"
      ],
      "metadata": {
        "colab": {
          "base_uri": "https://localhost:8080/"
        },
        "id": "QSPap5yle4B7",
        "outputId": "b98612ab-2510-4fed-ae89-bebc73ec06fe"
      },
      "execution_count": null,
      "outputs": [
        {
          "output_type": "stream",
          "name": "stdout",
          "text": [
            "Introuduzca un número: 5\n",
            "[5, 10, 15, 20, 25, 30, 35, 40, 45, 50]\n"
          ]
        }
      ]
    },
    {
      "cell_type": "markdown",
      "source": [
        "5. Escribe un programa que pida 5 números al usuario y calcule el promedio."
      ],
      "metadata": {
        "id": "Ulm2C5pLMdwL"
      }
    },
    {
      "cell_type": "code",
      "source": [
        "#for\n",
        "suma1=0\n",
        "for suma2 in range(5):\n",
        "  numero3=int(input(f\"Ingrese el número {suma2+1}: \"))\n",
        "  suma1 += numero3\n",
        "prom= suma1/5\n",
        "print(f\"El promedio es: {prom}\")"
      ],
      "metadata": {
        "id": "yJU4TomrMh4T",
        "colab": {
          "base_uri": "https://localhost:8080/"
        },
        "outputId": "774c3706-e0a0-481d-de2d-52e2a8932ca6"
      },
      "execution_count": 1,
      "outputs": [
        {
          "output_type": "stream",
          "name": "stdout",
          "text": [
            "Ingrese el número 1: 1\n",
            "Ingrese el número 2: 3\n",
            "Ingrese el número 3: 6\n",
            "Ingrese el número 4: 7\n",
            "Ingrese el número 5: 8\n",
            "El promedio es: 5.0\n"
          ]
        }
      ]
    },
    {
      "cell_type": "code",
      "source": [
        "#for-list\n",
        "numero4=[]\n",
        "for suma2 in range(5):\n",
        "  numero3=int(input(f\"Ingrese el número {suma2+1}: \"))\n",
        "  numero4.append(numero3)\n",
        "prom= sum(numero4)/len(numero4)\n",
        "print(\"Los números ingresados son:\", numero4)\n",
        "print(\"El promedio es:\", prom)"
      ],
      "metadata": {
        "colab": {
          "base_uri": "https://localhost:8080/"
        },
        "id": "I59hX_-relkz",
        "outputId": "c55ddd6e-4bfa-4606-baea-1f1ca9318f5c"
      },
      "execution_count": 3,
      "outputs": [
        {
          "output_type": "stream",
          "name": "stdout",
          "text": [
            "Ingrese el número 1: 5\n",
            "Ingrese el número 2: 5\n",
            "Ingrese el número 3: 5\n",
            "Ingrese el número 4: 5\n",
            "Ingrese el número 5: 5\n",
            "Los números ingresados son: [5, 5, 5, 5, 5]\n",
            "El promedio es: 5.0\n"
          ]
        }
      ]
    },
    {
      "cell_type": "markdown",
      "source": [
        "6. Escribe un programa que cuente cuántos números pares hay entre 1 y un número ingresado."
      ],
      "metadata": {
        "id": "bAhsO6UbMiID"
      }
    },
    {
      "cell_type": "code",
      "source": [
        "#for\n",
        "cont=0\n",
        "pares1= int(input(\"Ingrese un número: \"))\n",
        "for numero5 in range(1,pares1+1):\n",
        "  if numero5%2==0:\n",
        "    cont += 1\n",
        "print(f\"Entre 1 y {pares1} hay {cont} números pares\")"
      ],
      "metadata": {
        "id": "hzgR-qwpMlnL",
        "colab": {
          "base_uri": "https://localhost:8080/"
        },
        "outputId": "e1d06409-eb1b-4b83-ca17-e62265b7a3e6"
      },
      "execution_count": 23,
      "outputs": [
        {
          "output_type": "stream",
          "name": "stdout",
          "text": [
            "Ingrese un número: 20\n",
            "Entre 1 y 20 hay 10 números pares\n"
          ]
        }
      ]
    },
    {
      "cell_type": "code",
      "source": [
        "#for-list\n",
        "pares2=[]\n",
        "pares1= int(input(\"Ingrese un número: \"))\n",
        "for numero5 in range(1,pares1+1):\n",
        "  if numero5%2==0:\n",
        "    pares2.append(numero5)\n",
        "print(f\"Los números pares entre 1 y {pares1} son: {pares2}\")"
      ],
      "metadata": {
        "colab": {
          "base_uri": "https://localhost:8080/"
        },
        "id": "YmfCf0tmkHO_",
        "outputId": "5812e11a-1a7b-4b23-b848-4f62171373ba"
      },
      "execution_count": 25,
      "outputs": [
        {
          "output_type": "stream",
          "name": "stdout",
          "text": [
            "Ingrese un número: 20\n",
            "Los números pares entre 1 y 20 son: [2, 4, 6, 8, 10, 12, 14, 16, 18, 20]\n"
          ]
        }
      ]
    },
    {
      "cell_type": "markdown",
      "source": [
        "7. Escribe un programa que solicite contraseñas hasta que el usuario ingrese una válida, formada por su apellido y la longitud de su apellido (“Espinosa8”, por ejemplo)."
      ],
      "metadata": {
        "id": "gQwdkPlHMl3L"
      }
    },
    {
      "cell_type": "code",
      "source": [],
      "metadata": {
        "id": "mVzwjM5OMp2z"
      },
      "execution_count": null,
      "outputs": []
    },
    {
      "cell_type": "markdown",
      "source": [
        "8. Escribe un programa que imprima los primeros n números de la serie de Fibonacci."
      ],
      "metadata": {
        "id": "M9mftF2zMqFr"
      }
    },
    {
      "cell_type": "code",
      "source": [
        "#for\n",
        "numero6=int(input(\"Cuantos números quieres ver? \"))\n",
        "fib1=[0,1]\n",
        "for rango in range (2, numero6):\n",
        "  serie=fib1[rango-1] + fib1[rango-2]\n",
        "  fib1.append(serie)\n",
        "print(fib1)"
      ],
      "metadata": {
        "id": "X8X_LEDoMtTc",
        "colab": {
          "base_uri": "https://localhost:8080/"
        },
        "outputId": "11ae5bf3-307a-4680-f142-ae27ee226d34"
      },
      "execution_count": 39,
      "outputs": [
        {
          "output_type": "stream",
          "name": "stdout",
          "text": [
            "Cuantos números quieres ver? 9\n",
            "[0, 1, 1, 2, 3, 5, 8, 13, 21]\n"
          ]
        }
      ]
    },
    {
      "cell_type": "code",
      "source": [
        "#for-list\n",
        "numero6=int(input(\"Cuantos números quieres ver? \"))\n",
        "fib1=[0,1]\n",
        "for rango in range (2, numero6):\n",
        "  serie=fib1[rango-1] + fib1[rango-2]\n",
        "  fib1.append(serie)\n",
        "print(fib1)"
      ],
      "metadata": {
        "colab": {
          "base_uri": "https://localhost:8080/"
        },
        "id": "MQN0PfG-mite",
        "outputId": "366979ee-e4aa-4d83-b95a-0de03ff68bb6"
      },
      "execution_count": 40,
      "outputs": [
        {
          "output_type": "stream",
          "name": "stdout",
          "text": [
            "Cuantos números quieres ver? 8\n",
            "[0, 1, 1, 2, 3, 5, 8, 13]\n"
          ]
        }
      ]
    },
    {
      "cell_type": "markdown",
      "source": [
        "9. Escribe un programa que determine si un número ingresado es primo."
      ],
      "metadata": {
        "id": "Jz99rz_rMtlD"
      }
    },
    {
      "cell_type": "code",
      "source": [
        "#for\n",
        "numero7=int(input(\"Digite un número: \"))\n",
        "numero8=True\n",
        "if numero7<2:\n",
        "  numero8=False\n",
        "else:\n",
        "  for primo in range (2,numero7):\n",
        "    if numero7%primo==0:\n",
        "      numero8=False\n",
        "      break\n",
        "if numero8:\n",
        "    print(f\"{numero7} es un número primo\")\n",
        "else:\n",
        "    print(f\"{numero7} no es un número primo\")"
      ],
      "metadata": {
        "id": "T2rB3GSfMytj",
        "colab": {
          "base_uri": "https://localhost:8080/"
        },
        "outputId": "497dbf38-6ec1-4677-9a4d-1dbce4039e01"
      },
      "execution_count": 47,
      "outputs": [
        {
          "output_type": "stream",
          "name": "stdout",
          "text": [
            "Digite un número: 12\n",
            "12 no es un número primo\n"
          ]
        }
      ]
    },
    {
      "cell_type": "code",
      "source": [
        "#for-list\n",
        "numero7=int(input(\"Digite un número: \"))\n",
        "prim=[primo for primo in range(1,numero7+1) if numero7%primo==0]\n",
        "if len(prim)==2:\n",
        "    print(f\"{numero7} es un número primo\")\n",
        "else:\n",
        "    print(f\"{numero7} no es un número primo\")\n",
        "print(\"Divisores:\", prim)"
      ],
      "metadata": {
        "colab": {
          "base_uri": "https://localhost:8080/"
        },
        "id": "sBLjlVxtpeZu",
        "outputId": "7f6df0a6-b5a2-4b8a-eb4f-2d4ea7634031"
      },
      "execution_count": 50,
      "outputs": [
        {
          "output_type": "stream",
          "name": "stdout",
          "text": [
            "Digite un número: 9\n",
            "9 no es un número primo\n",
            "Divisores: [1, 3, 9]\n"
          ]
        }
      ]
    },
    {
      "cell_type": "markdown",
      "source": [
        "10. Escribe un programa que pida una cantidad y luego ingrese esa cantidad de números, imprima cuántos son positivos, negativos y ceros."
      ],
      "metadata": {
        "id": "WHFZbw7zMy7z"
      }
    },
    {
      "cell_type": "code",
      "source": [
        "#for\n",
        "numero8=int(input(\"Cuantos números deseas ingresar? \"))\n",
        "positivos=0\n",
        "negativos=0\n",
        "ceros=0\n",
        "for numero9 in range(numero8):\n",
        "  numero10=int(input(f\"Ingrese el número {numero9+1}: \"))\n",
        "  if numero10 > 0:\n",
        "        positivos += 1\n",
        "  elif numero10 < 0:\n",
        "        negativos += 1\n",
        "  else:\n",
        "        ceros += 1\n",
        "  print(f\"Positivos: {positivos}\")\n",
        "  print(f\"Negativos: {negativos}\")\n",
        "  print(f\"Ceros: {ceros}\")"
      ],
      "metadata": {
        "id": "6p_oeduQM2xz",
        "colab": {
          "base_uri": "https://localhost:8080/"
        },
        "outputId": "a4cff223-aa5a-448d-94e2-46db39ba3c8c"
      },
      "execution_count": 52,
      "outputs": [
        {
          "output_type": "stream",
          "name": "stdout",
          "text": [
            "Cuantos números deseas ingresar? 1\n",
            "Ingrese el número 1: 4\n",
            "Positivos: 1\n",
            "Negativos: 0\n",
            "Ceros: 0\n"
          ]
        }
      ]
    },
    {
      "cell_type": "code",
      "source": [
        "#for-list\n",
        "numero8=int(input(\"Cuantos números deseas ingresar? \"))\n",
        "numero10=[int(input(f\"Ingrese el número {numero9+1}: \")) for numero9 in range(numero8)]\n",
        "positivos = 0\n",
        "negativos = 0\n",
        "ceros = 0\n",
        "for num in numero10:\n",
        "    if num > 0:\n",
        "        positivos += 1\n",
        "    elif num < 0:\n",
        "        negativos += 1\n",
        "    else:\n",
        "        ceros += 1\n",
        "print(\"Los números ingresados fueron:\", numero10)\n",
        "print(f\"Positivos: {positivos}\")\n",
        "print(f\"Negativos: {negativos}\")\n",
        "print(f\"Ceros: {ceros}\")"
      ],
      "metadata": {
        "colab": {
          "base_uri": "https://localhost:8080/"
        },
        "id": "qtp3CiT4snHV",
        "outputId": "df387d74-23ad-41d7-c7b8-c43abfac79bc"
      },
      "execution_count": 54,
      "outputs": [
        {
          "output_type": "stream",
          "name": "stdout",
          "text": [
            "Cuantos números deseas ingresar? 1\n",
            "Ingrese el número 1: 5\n",
            "Los números ingresados fueron: [5]\n",
            "Positivos: 1\n",
            "Negativos: 0\n",
            "Ceros: 0\n"
          ]
        }
      ]
    }
  ]
}