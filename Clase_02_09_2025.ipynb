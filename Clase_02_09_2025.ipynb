{
  "nbformat": 4,
  "nbformat_minor": 0,
  "metadata": {
    "colab": {
      "provenance": [],
      "authorship_tag": "ABX9TyOTKwCo3P7RQ5pt2oKmH8yu",
      "include_colab_link": true
    },
    "kernelspec": {
      "name": "python3",
      "display_name": "Python 3"
    },
    "language_info": {
      "name": "python"
    }
  },
  "cells": [
    {
      "cell_type": "markdown",
      "metadata": {
        "id": "view-in-github",
        "colab_type": "text"
      },
      "source": [
        "<a href=\"https://colab.research.google.com/github/SantiagoLizarazo/PROGCOM-B/blob/main/Clase_02_09_2025.ipynb\" target=\"_parent\"><img src=\"https://colab.research.google.com/assets/colab-badge.svg\" alt=\"Open In Colab\"/></a>"
      ]
    },
    {
      "cell_type": "markdown",
      "source": [
        "##¿Qué es la mutabilidad en Python?\n",
        "Mutable → significa que el objeto se puede cambiar después de creado.\n",
        "\n",
        "Inmutable → significa que el objeto NO se puede cambiar después de creado.\n",
        "\n",
        "Esto no es lo mismo que “usar otra variable”. La mutabilidad afecta cómo Python maneja la memoria y cómo se comportan las variables cuando las compartimos.\n",
        "\n",
        "\n",
        "\n",
        "```\n",
        "frutas = [\"manzana\", \"pera\"]  # Una lista es mutable\n",
        "print(frutas)\n",
        "\n",
        "frutas.append(\"uva\")  # Le agregamos un valor\n",
        "print(frutas)\n",
        "\n",
        "```\n",
        "\n"
      ],
      "metadata": {
        "id": "Ep0V5zF8_-4U"
      }
    },
    {
      "cell_type": "code",
      "source": [
        "saludo = \"Hola\"\n",
        "print(saludo)\n",
        "\n",
        "saludo = saludo + \" mundo\"\n",
        "print(saludo)"
      ],
      "metadata": {
        "colab": {
          "base_uri": "https://localhost:8080/"
        },
        "id": "4Fe6dyMFAU8G",
        "outputId": "ee6531a3-4490-4f50-8499-3c46d85daf8f"
      },
      "execution_count": 1,
      "outputs": [
        {
          "output_type": "stream",
          "name": "stdout",
          "text": [
            "Hola\n",
            "Hola mundo\n"
          ]
        }
      ]
    }
  ]
}