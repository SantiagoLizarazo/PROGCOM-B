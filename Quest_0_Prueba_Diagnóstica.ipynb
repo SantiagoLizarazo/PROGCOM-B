{
  "nbformat": 4,
  "nbformat_minor": 0,
  "metadata": {
    "colab": {
      "provenance": []
    },
    "kernelspec": {
      "name": "python3",
      "display_name": "Python 3"
    },
    "language_info": {
      "name": "python"
    }
  },
  "cells": [
    {
      "cell_type": "markdown",
      "source": [
        "#Prueba Diagnóstica"
      ],
      "metadata": {
        "id": "9rrN_MZ6nTQx"
      }
    },
    {
      "cell_type": "markdown",
      "source": [
        "##Ejercicios de Selección\n",
        "##Parte 1: Estructuras de Decisión\n",
        "\n",
        "\n",
        "\n"
      ],
      "metadata": {
        "id": "L0Z-ZJPznh6I"
      }
    },
    {
      "cell_type": "markdown",
      "source": [
        "###Escribe un programa que reciba un número e indique si es positivo."
      ],
      "metadata": {
        "id": "r7qzmUaJ2Fs3"
      }
    },
    {
      "cell_type": "code",
      "execution_count": 11,
      "metadata": {
        "colab": {
          "base_uri": "https://localhost:8080/"
        },
        "id": "rOe695w_mkKC",
        "outputId": "9449152a-b229-4572-94c0-4b56da834e9f"
      },
      "outputs": [
        {
          "output_type": "stream",
          "name": "stdout",
          "text": [
            "Hola! Por favor, escribe un número!-5\n",
            "El número que escribiste es negativo\n"
          ]
        }
      ],
      "source": [
        "Numero= int(input(\"Hola! Por favor, escribe un número!\"))\n",
        "if Numero<0: print (\"El número que escribiste es negativo\")\n",
        "else: print (\"El número que escribiste es positivo\")"
      ]
    },
    {
      "cell_type": "markdown",
      "source": [
        "###Escribe un programa que reciba una edad y determine si la persona es mayor de edad."
      ],
      "metadata": {
        "id": "dpkNB1Wj2LJP"
      }
    },
    {
      "cell_type": "code",
      "source": [
        "Edad= int(input(\"Bienvenido! Para acceder, por favor digite su edad!\"))\n",
        "if Edad<18: print (\"Usted es menor de edad\")\n",
        "else: print (\"Usted es mayor de edad\")"
      ],
      "metadata": {
        "colab": {
          "base_uri": "https://localhost:8080/"
        },
        "id": "dzc-zWVlsxmu",
        "outputId": "c85b83f0-7009-4627-fe8d-2335555c2b2b"
      },
      "execution_count": 12,
      "outputs": [
        {
          "output_type": "stream",
          "name": "stdout",
          "text": [
            "Bienvenido! Para acceder, por favor digite su edad!18\n",
            "Usted es mayor de edad\n"
          ]
        }
      ]
    },
    {
      "cell_type": "markdown",
      "source": [
        "###Escribe un programa que reciba dos números e imprima el mayor."
      ],
      "metadata": {
        "id": "ykSaUhHI2VIu"
      }
    },
    {
      "cell_type": "code",
      "source": [
        "Numero1= int(input(\"Pon a prueba el conocimiento! Digite un número al azar!\"))\n",
        "Numero2= int(input(\"Ahora, digite el segundo número!\"))\n",
        "if Numero1>Numero2: print (\"El número mayor es...\",Numero1)\n",
        "else: print (\"El número mayor es...\",Numero2)"
      ],
      "metadata": {
        "colab": {
          "base_uri": "https://localhost:8080/"
        },
        "id": "queUZ-aDtQyd",
        "outputId": "96099cf9-93b3-40ba-ff7a-c84d235acb60"
      },
      "execution_count": 17,
      "outputs": [
        {
          "output_type": "stream",
          "name": "stdout",
          "text": [
            "Pon a prueba el conocimiento! Digite un número al azar!8\n",
            "Ahora, digite el segundo número!9\n",
            "El número mayor es... 9\n"
          ]
        }
      ]
    },
    {
      "cell_type": "markdown",
      "source": [
        "###Escribe un programa que reciba una calificación (0-100) e indique si es Aprobado (>=60) o Reprobado."
      ],
      "metadata": {
        "id": "ByqAR_KB2X8W"
      }
    },
    {
      "cell_type": "code",
      "source": [
        "Calificacion= int(input(\"Este es el sistema de calificación, digite su nota!\"))\n",
        "if Calificacion>100: print(\"Este número es invalido!\")\n",
        "elif Calificacion<60: print (\"Usted ha sido reprobado!\")\n",
        "else: print (\"Has sido aprobado, felicidades!\")"
      ],
      "metadata": {
        "colab": {
          "base_uri": "https://localhost:8080/"
        },
        "id": "nEfGjqsEuv5c",
        "outputId": "e6591e03-b164-449e-d7ef-dea53462f57e"
      },
      "execution_count": 38,
      "outputs": [
        {
          "output_type": "stream",
          "name": "stdout",
          "text": [
            "Este es el sistema de calificación, digite su nota!50\n",
            "Usted ha sido reprobado!\n"
          ]
        }
      ]
    },
    {
      "cell_type": "markdown",
      "source": [
        "###Escribe un programa que determine si un número es par o impar."
      ],
      "metadata": {
        "id": "GwW6lApZ2YoP"
      }
    },
    {
      "cell_type": "code",
      "source": [
        "Numero= int(input(\"Digite un número a continuación:\"))\n",
        "if Numero%2 == 0: print (\"Su número es par\")\n",
        "else: print (\"Su número es impar\")"
      ],
      "metadata": {
        "colab": {
          "base_uri": "https://localhost:8080/"
        },
        "id": "Ye6ftf0DvVfk",
        "outputId": "d1eb8c0d-49c5-43ec-9d7a-4b3236d5348c"
      },
      "execution_count": 21,
      "outputs": [
        {
          "output_type": "stream",
          "name": "stdout",
          "text": [
            "Digite un número a continuación:5\n",
            "Su número es impar\n"
          ]
        }
      ]
    },
    {
      "cell_type": "markdown",
      "source": [
        "###Escribe un programa que reciba tres números e imprima el mayor de los tres."
      ],
      "metadata": {
        "id": "jl8pdsk52ZWO"
      }
    },
    {
      "cell_type": "code",
      "source": [
        "Numero1= int(input(\"Pon a prueba el conocimiento! Digite un número al azar!\"))\n",
        "Numero2= int(input(\"Ahora, digite el segundo número!\"))\n",
        "Numero3= int(input(\"Por último, ingrese un tercer número!\"))\n",
        "if Numero1>Numero2>Numero3: print (\"El número mayor es...\",Numero1)\n",
        "if Numero1<Numero2>Numero3: print (\"El número mayor es...\",Numero2)\n",
        "else: print (\"El número mayor es...\",Numero3)"
      ],
      "metadata": {
        "colab": {
          "base_uri": "https://localhost:8080/"
        },
        "id": "bnfdRpqhwIAs",
        "outputId": "b72b1429-972d-48b2-b4a8-388f970870a9"
      },
      "execution_count": 22,
      "outputs": [
        {
          "output_type": "stream",
          "name": "stdout",
          "text": [
            "Pon a prueba el conocimiento! Digite un número al azar!8\n",
            "Ahora, digite el segundo número!9\n",
            "Por último, ingrese un tercer número!10\n",
            "El número mayor es... 10\n"
          ]
        }
      ]
    },
    {
      "cell_type": "markdown",
      "source": [
        "###Escribe un programa que reciba un año e indique si es bisiesto."
      ],
      "metadata": {
        "id": "v_KiuocV2Zvm"
      }
    },
    {
      "cell_type": "code",
      "source": [
        "Año= int(input(\"Indique el año que quiere consultar sí es o fue bisiesto:\"))"
      ],
      "metadata": {
        "colab": {
          "base_uri": "https://localhost:8080/"
        },
        "id": "nhFNmI62xarD",
        "outputId": "10066c77-42c2-481b-ce01-d4c649d60815"
      },
      "execution_count": 49,
      "outputs": [
        {
          "name": "stdout",
          "output_type": "stream",
          "text": [
            "Indique el año que quiere consultar sí es o fue bisiesto:2000\n"
          ]
        }
      ]
    }
  ]
}