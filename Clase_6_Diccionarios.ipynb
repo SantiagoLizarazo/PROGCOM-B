{
  "nbformat": 4,
  "nbformat_minor": 0,
  "metadata": {
    "colab": {
      "provenance": [],
      "authorship_tag": "ABX9TyOxIESasG4pGiro0ilERJai",
      "include_colab_link": true
    },
    "kernelspec": {
      "name": "python3",
      "display_name": "Python 3"
    },
    "language_info": {
      "name": "python"
    }
  },
  "cells": [
    {
      "cell_type": "markdown",
      "metadata": {
        "id": "view-in-github",
        "colab_type": "text"
      },
      "source": [
        "<a href=\"https://colab.research.google.com/github/SantiagoLizarazo/PROGCOM-B/blob/main/Clase_6_Diccionarios.ipynb\" target=\"_parent\"><img src=\"https://colab.research.google.com/assets/colab-badge.svg\" alt=\"Open In Colab\"/></a>"
      ]
    },
    {
      "cell_type": "markdown",
      "source": [
        "##Diccionarios\n",
        "Estructura de datos que almacena valores\n",
        "\n",
        "Sintaxix\n",
        "\n",
        "```\n",
        "nombre_diccionario={\"llave\":valor}\n",
        "```\n",
        "* Llave: **SIEMPRE** tiene que ser alfanúmerica\n",
        "* valor: Culaquier tipo de dato\n"
      ],
      "metadata": {
        "id": "ejxnkZVucGPr"
      }
    },
    {
      "cell_type": "code",
      "source": [
        "liga_justicia={\"superhéroes\":[\"Batman\", \"Superman\", \"WonderWoman\"],\n",
        "               \"identidades\":[\"Bruce Wayne\", \"Clark Kent\", \"Diana Prince\"]}"
      ],
      "metadata": {
        "id": "UPgKJb7Xc0bx"
      },
      "execution_count": 1,
      "outputs": []
    },
    {
      "cell_type": "code",
      "source": [
        "type(liga_justicia)"
      ],
      "metadata": {
        "colab": {
          "base_uri": "https://localhost:8080/"
        },
        "id": "clFFNkGtdm0Y",
        "outputId": "2b3aa2ce-83bd-4598-c02f-8b70b72c1488"
      },
      "execution_count": 3,
      "outputs": [
        {
          "output_type": "execute_result",
          "data": {
            "text/plain": [
              "dict"
            ]
          },
          "metadata": {},
          "execution_count": 3
        }
      ]
    },
    {
      "cell_type": "code",
      "execution_count": 4,
      "metadata": {
        "colab": {
          "base_uri": "https://localhost:8080/"
        },
        "id": "jsCXF-7Qa5QN",
        "outputId": "67a7c599-8632-444c-b424-9acd2960276a"
      },
      "outputs": [
        {
          "output_type": "execute_result",
          "data": {
            "text/plain": [
              "{'superhéroes': ['Batman', 'Superman', 'WonderWoman'],\n",
              " 'identidades': ['Bruce Wayne', 'Clark Kent', 'Diana Prince']}"
            ]
          },
          "metadata": {},
          "execution_count": 4
        }
      ],
      "source": [
        "liga_justicia"
      ]
    },
    {
      "cell_type": "code",
      "source": [
        "liga_justicia{0}"
      ],
      "metadata": {
        "colab": {
          "base_uri": "https://localhost:8080/",
          "height": 106
        },
        "id": "UW2i5NuHe3tA",
        "outputId": "b5f2dff4-9a9a-47f2-e889-87e4cd4a7cc4"
      },
      "execution_count": 11,
      "outputs": [
        {
          "output_type": "error",
          "ename": "SyntaxError",
          "evalue": "invalid syntax (ipython-input-591462058.py, line 1)",
          "traceback": [
            "\u001b[0;36m  File \u001b[0;32m\"/tmp/ipython-input-591462058.py\"\u001b[0;36m, line \u001b[0;32m1\u001b[0m\n\u001b[0;31m    liga_justicia{0}\u001b[0m\n\u001b[0m                 ^\u001b[0m\n\u001b[0;31mSyntaxError\u001b[0m\u001b[0;31m:\u001b[0m invalid syntax\n"
          ]
        }
      ]
    },
    {
      "cell_type": "code",
      "source": [
        "liga_justicia['superhéroes']"
      ],
      "metadata": {
        "colab": {
          "base_uri": "https://localhost:8080/"
        },
        "id": "5pOvriQneAUJ",
        "outputId": "72475877-9c78-4291-b34c-df7afabf9b6a"
      },
      "execution_count": 10,
      "outputs": [
        {
          "output_type": "execute_result",
          "data": {
            "text/plain": [
              "['Batman', 'Superman', 'WonderWoman']"
            ]
          },
          "metadata": {},
          "execution_count": 10
        }
      ]
    },
    {
      "cell_type": "code",
      "source": [
        "liga_justicia[\"identidades\"][3]"
      ],
      "metadata": {
        "colab": {
          "base_uri": "https://localhost:8080/",
          "height": 141
        },
        "id": "JY2JghtVfJzX",
        "outputId": "89835562-f9dc-4c8e-a4e7-8c63fe7b122e"
      },
      "execution_count": 16,
      "outputs": [
        {
          "output_type": "error",
          "ename": "IndexError",
          "evalue": "list index out of range",
          "traceback": [
            "\u001b[0;31m---------------------------------------------------------------------------\u001b[0m",
            "\u001b[0;31mIndexError\u001b[0m                                Traceback (most recent call last)",
            "\u001b[0;32m/tmp/ipython-input-3249564561.py\u001b[0m in \u001b[0;36m<cell line: 0>\u001b[0;34m()\u001b[0m\n\u001b[0;32m----> 1\u001b[0;31m \u001b[0mliga_justicia\u001b[0m\u001b[0;34m[\u001b[0m\u001b[0;34m\"identidades\"\u001b[0m\u001b[0;34m]\u001b[0m\u001b[0;34m[\u001b[0m\u001b[0;36m3\u001b[0m\u001b[0;34m]\u001b[0m\u001b[0;34m\u001b[0m\u001b[0;34m\u001b[0m\u001b[0m\n\u001b[0m",
            "\u001b[0;31mIndexError\u001b[0m: list index out of range"
          ]
        }
      ]
    },
    {
      "cell_type": "code",
      "source": [
        "liga_justicia"
      ],
      "metadata": {
        "colab": {
          "base_uri": "https://localhost:8080/"
        },
        "id": "LGe-BIT6hpb9",
        "outputId": "4c7b3b86-dc01-4905-829a-4e25aa8476ab"
      },
      "execution_count": 2,
      "outputs": [
        {
          "output_type": "execute_result",
          "data": {
            "text/plain": [
              "{'superhéroes': ['Batman', 'Superman', 'WonderWoman'],\n",
              " 'identidades': ['Bruce Wayne', 'Clark Kent', 'Diana Prince']}"
            ]
          },
          "metadata": {},
          "execution_count": 2
        }
      ]
    },
    {
      "cell_type": "markdown",
      "source": [
        "##1. Función setdefault(): Devuelve el valor de la clave especificada. Si la clave no existe, inserta la clave con el valor por defecto y lo devuelve.\n",
        "Sintaxis\n",
        "```\n",
        "value = dict.setdefault(key, default=None)\n",
        "```\n",
        "\n"
      ],
      "metadata": {
        "id": "QZX3_LZzoMxg"
      }
    },
    {
      "cell_type": "code",
      "source": [
        "liga_justicia.setdefault('villanos', [])\n",
        "liga_justicia"
      ],
      "metadata": {
        "colab": {
          "base_uri": "https://localhost:8080/"
        },
        "id": "-8FuZ5NDiSQs",
        "outputId": "4e6d4085-665a-49a2-e828-874272db3eb1"
      },
      "execution_count": 3,
      "outputs": [
        {
          "output_type": "execute_result",
          "data": {
            "text/plain": [
              "{'superhéroes': ['Batman', 'Superman', 'WonderWoman'],\n",
              " 'identidades': ['Bruce Wayne', 'Clark Kent', 'Diana Prince'],\n",
              " 'villanos': []}"
            ]
          },
          "metadata": {},
          "execution_count": 3
        }
      ]
    },
    {
      "cell_type": "markdown",
      "source": [
        "##2. Función keys(): Devuelve una vista con todas las claves del diccionario.\n",
        "Sintaxis\n",
        "```\n",
        "keys = dict.keys()\n",
        "```\n",
        "\n"
      ],
      "metadata": {
        "id": "xOXZcer3oW-p"
      }
    },
    {
      "cell_type": "code",
      "source": [
        "claves = liga_justicia.keys()\n",
        "claves"
      ],
      "metadata": {
        "colab": {
          "base_uri": "https://localhost:8080/"
        },
        "id": "rm4ES-4Uk2Cj",
        "outputId": "3ca7cd92-f89c-4e29-d53d-f6f342c30066"
      },
      "execution_count": 4,
      "outputs": [
        {
          "output_type": "execute_result",
          "data": {
            "text/plain": [
              "dict_keys(['superhéroes', 'identidades', 'villanos'])"
            ]
          },
          "metadata": {},
          "execution_count": 4
        }
      ]
    },
    {
      "cell_type": "markdown",
      "source": [
        "##3. Función items(): Devuelve una vista con pares (clave, valor) del diccionario.\n",
        "Sintaxis\n",
        "```\n",
        "items = dict.items()\n",
        "```\n",
        "\n"
      ],
      "metadata": {
        "id": "G2UquK0ToXtI"
      }
    },
    {
      "cell_type": "code",
      "source": [
        "pares = liga_justicia.items()\n",
        "pares"
      ],
      "metadata": {
        "colab": {
          "base_uri": "https://localhost:8080/"
        },
        "id": "cwLrfQwSlKea",
        "outputId": "85d2c447-d8d1-4a2a-834d-9d86ce6b3b1f"
      },
      "execution_count": 5,
      "outputs": [
        {
          "output_type": "execute_result",
          "data": {
            "text/plain": [
              "dict_items([('superhéroes', ['Batman', 'Superman', 'WonderWoman']), ('identidades', ['Bruce Wayne', 'Clark Kent', 'Diana Prince']), ('villanos', [])])"
            ]
          },
          "metadata": {},
          "execution_count": 5
        }
      ]
    },
    {
      "cell_type": "markdown",
      "source": [
        "##4. Función get(): Devuelve el valor asociado a la clave si existe, sino devuelve el valor por defecto.\n",
        "Sintaxis\n",
        "```\n",
        "value = dict.get(key, default=None)\n",
        "```\n",
        "\n"
      ],
      "metadata": {
        "id": "EaMntLdJoYPa"
      }
    },
    {
      "cell_type": "code",
      "source": [
        "heroes = liga_justicia.get('superhéroes')\n",
        "heroes"
      ],
      "metadata": {
        "colab": {
          "base_uri": "https://localhost:8080/"
        },
        "id": "uSQ1EK0FlHQC",
        "outputId": "8e5de21c-da37-41bb-bed6-867b637ef56a"
      },
      "execution_count": 6,
      "outputs": [
        {
          "output_type": "execute_result",
          "data": {
            "text/plain": [
              "['Batman', 'Superman', 'WonderWoman']"
            ]
          },
          "metadata": {},
          "execution_count": 6
        }
      ]
    },
    {
      "cell_type": "markdown",
      "source": [
        "##5. Función fromkeys(): Crea un nuevo diccionario con claves del iterable y asigna a todas ellas el mismo valor.\n",
        "Sintaxis\n",
        "```\n",
        "new_dict = dict.fromkeys(iterable, value=None)\n",
        "```\n",
        "\n"
      ],
      "metadata": {
        "id": "Civcne_eoYqY"
      }
    },
    {
      "cell_type": "code",
      "source": [
        "nuevo_dict = dict.fromkeys(['meta', 'poder'], None)\n",
        "nuevo_dict"
      ],
      "metadata": {
        "colab": {
          "base_uri": "https://localhost:8080/"
        },
        "id": "bQqSh8TeqO0H",
        "outputId": "4b5a64b7-b019-41b7-db3c-a4faec768a29"
      },
      "execution_count": 7,
      "outputs": [
        {
          "output_type": "execute_result",
          "data": {
            "text/plain": [
              "{'meta': None, 'poder': None}"
            ]
          },
          "metadata": {},
          "execution_count": 7
        }
      ]
    },
    {
      "cell_type": "markdown",
      "source": [
        "##6. Función copy(): Devuelve una copia superficial del diccionario.\n",
        "Sintaxis\n",
        "```\n",
        "new_dict = dict.copy()\n",
        "```\n",
        "\n"
      ],
      "metadata": {
        "id": "wonJ3VvdoZMp"
      }
    },
    {
      "cell_type": "code",
      "source": [
        "copia = liga_justicia.copy()\n",
        "copia"
      ],
      "metadata": {
        "colab": {
          "base_uri": "https://localhost:8080/"
        },
        "id": "T1nAxXwDqPYG",
        "outputId": "c407d5b2-e74b-492f-ed03-8afbb51a600d"
      },
      "execution_count": 8,
      "outputs": [
        {
          "output_type": "execute_result",
          "data": {
            "text/plain": [
              "{'superhéroes': ['Batman', 'Superman', 'WonderWoman'],\n",
              " 'identidades': ['Bruce Wayne', 'Clark Kent', 'Diana Prince'],\n",
              " 'villanos': []}"
            ]
          },
          "metadata": {},
          "execution_count": 8
        }
      ]
    },
    {
      "cell_type": "markdown",
      "source": [
        "##7. Función clear(): Elimina todos los elementos del diccionario.\n",
        "Sintaxis\n",
        "```\n",
        "dict.clear()\n",
        "```\n",
        "\n"
      ],
      "metadata": {
        "id": "26W8PAGDoZcY"
      }
    },
    {
      "cell_type": "code",
      "source": [
        "copia.clear()\n",
        "copia"
      ],
      "metadata": {
        "colab": {
          "base_uri": "https://localhost:8080/"
        },
        "id": "Tp2l_3YlqQCf",
        "outputId": "6c9126d9-e6cc-4095-d497-3a260f604602"
      },
      "execution_count": 9,
      "outputs": [
        {
          "output_type": "execute_result",
          "data": {
            "text/plain": [
              "{}"
            ]
          },
          "metadata": {},
          "execution_count": 9
        }
      ]
    },
    {
      "cell_type": "markdown",
      "source": [
        "##8. Función pop(): Elimina la clave especificada y devuelve su valor. Si no existe, devuelve el valor por defecto si se especifica, o lanza un error.\n",
        "Sintaxis\n",
        "```\n",
        "value = dict.pop(key, default=None)\n",
        "```\n",
        "\n"
      ],
      "metadata": {
        "id": "xiayF7RooZh4"
      }
    },
    {
      "cell_type": "code",
      "source": [
        "liga_justicia[\"identidades\"]=['Bruce Wayne', 'Clark Kent', 'Diana Prince']\n",
        "identidades = liga_justicia.pop(\"identidades\")\n",
        "identidades"
      ],
      "metadata": {
        "colab": {
          "base_uri": "https://localhost:8080/"
        },
        "id": "Y5U6xoSlq6M-",
        "outputId": "65690d72-414e-40c5-c29c-d881cf718325"
      },
      "execution_count": 11,
      "outputs": [
        {
          "output_type": "execute_result",
          "data": {
            "text/plain": [
              "['Bruce Wayne', 'Clark Kent', 'Diana Prince']"
            ]
          },
          "metadata": {},
          "execution_count": 11
        }
      ]
    },
    {
      "cell_type": "markdown",
      "source": [
        "##9. Función popitem(): Elimina y devuelve un par (clave, valor) arbitrario del diccionario.\n",
        "Sintaxis\n",
        "```\n",
        "pair = dict.popitem()\n",
        "```\n",
        "\n"
      ],
      "metadata": {
        "id": "rEemgEX0oZk5"
      }
    },
    {
      "cell_type": "code",
      "source": [
        "par = liga_justicia.popitem()\n",
        "par"
      ],
      "metadata": {
        "colab": {
          "base_uri": "https://localhost:8080/"
        },
        "id": "lsuHZfkcqQ42",
        "outputId": "71d9d9d9-88c6-4d20-c973-f6b454420b32"
      },
      "execution_count": 12,
      "outputs": [
        {
          "output_type": "execute_result",
          "data": {
            "text/plain": [
              "('villanos', [])"
            ]
          },
          "metadata": {},
          "execution_count": 12
        }
      ]
    },
    {
      "cell_type": "markdown",
      "source": [
        "##10. Función update([]): Actualiza el diccionario con los pares clave-valor de otro diccionario o iterable.\n",
        "Sintaxis\n",
        "```\n",
        "dict.update(other_dict)\n",
        "```\n",
        "\n"
      ],
      "metadata": {
        "id": "tbQpH9CHpVzH"
      }
    },
    {
      "cell_type": "code",
      "source": [
        "liga_justicia.update({'plan': 'Salvar el mundo'})\n",
        "liga_justicia"
      ],
      "metadata": {
        "colab": {
          "base_uri": "https://localhost:8080/"
        },
        "id": "m5lKhIhuqRTu",
        "outputId": "0e6d1234-dd33-4e31-f1a0-93ead3ce1844"
      },
      "execution_count": 13,
      "outputs": [
        {
          "output_type": "execute_result",
          "data": {
            "text/plain": [
              "{'superhéroes': ['Batman', 'Superman', 'WonderWoman'],\n",
              " 'plan': 'Salvar el mundo'}"
            ]
          },
          "metadata": {},
          "execution_count": 13
        }
      ]
    },
    {
      "cell_type": "markdown",
      "source": [
        "##11. Función values(): Devuelve una vista con todos los valores del diccionario.\n",
        "Sintaxis\n",
        "```\n",
        "values = dict.values()\n",
        "```\n",
        "\n"
      ],
      "metadata": {
        "id": "CLcjwbz1pV3o"
      }
    },
    {
      "cell_type": "code",
      "source": [
        "valores = liga_justicia.values()\n",
        "valores"
      ],
      "metadata": {
        "colab": {
          "base_uri": "https://localhost:8080/"
        },
        "id": "5fZ7PciDqRjm",
        "outputId": "868cd194-f7d2-4ba7-f9a9-8654708ca191"
      },
      "execution_count": 14,
      "outputs": [
        {
          "output_type": "execute_result",
          "data": {
            "text/plain": [
              "dict_values([['Batman', 'Superman', 'WonderWoman'], 'Salvar el mundo'])"
            ]
          },
          "metadata": {},
          "execution_count": 14
        }
      ]
    }
  ]
}